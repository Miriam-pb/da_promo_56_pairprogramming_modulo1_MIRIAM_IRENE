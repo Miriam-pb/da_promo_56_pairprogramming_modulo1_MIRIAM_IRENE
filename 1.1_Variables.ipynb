{
 "cells": [
  {
   "cell_type": "code",
   "execution_count": 1,
   "id": "b2201cd0",
   "metadata": {},
   "outputs": [],
   "source": [
    "gatos = 8"
   ]
  },
  {
   "cell_type": "code",
   "execution_count": 3,
   "id": "89b70521",
   "metadata": {},
   "outputs": [],
   "source": [
    "perros = \"cuatro\""
   ]
  },
  {
   "cell_type": "code",
   "execution_count": 4,
   "id": "46e7b7d4",
   "metadata": {},
   "outputs": [
    {
     "name": "stdout",
     "output_type": "stream",
     "text": [
      "8\n"
     ]
    }
   ],
   "source": [
    "print(gatos)"
   ]
  },
  {
   "cell_type": "code",
   "execution_count": 5,
   "id": "0dda1158",
   "metadata": {},
   "outputs": [
    {
     "name": "stdout",
     "output_type": "stream",
     "text": [
      "cuatro\n"
     ]
    }
   ],
   "source": [
    "print (perros)"
   ]
  },
  {
   "cell_type": "code",
   "execution_count": 15,
   "id": "23b59281",
   "metadata": {},
   "outputs": [
    {
     "name": "stdout",
     "output_type": "stream",
     "text": [
      "cuatro más cuatro\n"
     ]
    }
   ],
   "source": [
    "print((perros), \"más\", (perros))"
   ]
  },
  {
   "cell_type": "code",
   "execution_count": 16,
   "id": "3bf02deb",
   "metadata": {},
   "outputs": [
    {
     "name": "stdout",
     "output_type": "stream",
     "text": [
      "cuatro más cuatro es igual a 8\n"
     ]
    }
   ],
   "source": [
    "print((perros), \"más\", (perros), \"es igual a\", (gatos))"
   ]
  },
  {
   "cell_type": "code",
   "execution_count": 20,
   "id": "0ad6b089",
   "metadata": {},
   "outputs": [
    {
     "name": "stdout",
     "output_type": "stream",
     "text": [
      "cuatro + cuatro = 8\n"
     ]
    }
   ],
   "source": [
    "print((perros), \"+\", (perros), \"=\", (gatos))"
   ]
  },
  {
   "cell_type": "code",
   "execution_count": 24,
   "id": "1f4b8d7c",
   "metadata": {},
   "outputs": [
    {
     "name": "stdout",
     "output_type": "stream",
     "text": [
      "2.0\n",
      "<class 'float'>\n"
     ]
    }
   ],
   "source": [
    "pizzas=float(2)\n",
    "print(pizzas)\n",
    "print(type(pizzas))"
   ]
  },
  {
   "cell_type": "code",
   "execution_count": 26,
   "id": "0ce5eff5",
   "metadata": {},
   "outputs": [
    {
     "name": "stdout",
     "output_type": "stream",
     "text": [
      "2\n",
      "<class 'str'>\n"
     ]
    }
   ],
   "source": [
    "magdalenas=str(2)\n",
    "print(magdalenas)\n",
    "print(type(magdalenas))"
   ]
  },
  {
   "cell_type": "code",
   "execution_count": 1,
   "id": "8198e9ec",
   "metadata": {},
   "outputs": [
    {
     "name": "stdout",
     "output_type": "stream",
     "text": [
      "0\n",
      "<class 'int'>\n"
     ]
    }
   ],
   "source": [
    "postres=int(0)\n",
    "print(postres)\n",
    "print(type(postres))"
   ]
  },
  {
   "cell_type": "code",
   "execution_count": 2,
   "id": "358a1546",
   "metadata": {},
   "outputs": [
    {
     "data": {
      "text/plain": [
       "['hola', 'buenos', 'días']"
      ]
     },
     "execution_count": 2,
     "metadata": {},
     "output_type": "execute_result"
    }
   ],
   "source": [
    "saludo = \"hola buenos días\"\n",
    "saludo.split()"
   ]
  },
  {
   "cell_type": "code",
   "execution_count": 2,
   "id": "b057306f",
   "metadata": {},
   "outputs": [
    {
     "name": "stdout",
     "output_type": "stream",
     "text": [
      "<class 'str'>\n",
      "<class 'str'>\n"
     ]
    }
   ],
   "source": [
    "nombre = input() \n",
    "nombre1 = \"Alba\"\n",
    "print(type(nombre))\n",
    "print(type(nombre1))"
   ]
  },
  {
   "cell_type": "code",
   "execution_count": 3,
   "id": "6fb695ff",
   "metadata": {},
   "outputs": [
    {
     "name": "stdout",
     "output_type": "stream",
     "text": [
      "False\n"
     ]
    }
   ],
   "source": [
    "print(nombre == nombre1)"
   ]
  }
 ],
 "metadata": {
  "kernelspec": {
   "display_name": "base",
   "language": "python",
   "name": "python3"
  },
  "language_info": {
   "codemirror_mode": {
    "name": "ipython",
    "version": 3
   },
   "file_extension": ".py",
   "mimetype": "text/x-python",
   "name": "python",
   "nbconvert_exporter": "python",
   "pygments_lexer": "ipython3",
   "version": "3.12.7"
  }
 },
 "nbformat": 4,
 "nbformat_minor": 5
}
