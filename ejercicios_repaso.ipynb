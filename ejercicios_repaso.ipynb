{
 "cells": [
  {
   "cell_type": "markdown",
   "id": "b14cc637",
   "metadata": {},
   "source": [
    "En este ejercicio, crearás una clase llamada Ecommerce para gestionar los datos de un ecommerce, como productos, clientes y ventas. La clase Ecommerce tiene varios métodos que permiten realizar diversas operaciones."
   ]
  },
  {
   "cell_type": "code",
   "execution_count": null,
   "id": "9a934d65",
   "metadata": {},
   "outputs": [],
   "source": [
    "class Ecommerce:\n",
    "\n",
    "    def __init__(self, nombre):\n",
    "\n",
    "        self.nombre = nombre\n",
    "        self.productos = {}\n",
    "        self.clientes = {}\n",
    "        self.ventas = []\n",
    "    \n",
    "    def agregar_producto(self, id_producto, nombre, precio, stock):\n",
    "\n",
    "        if id_producto in self.productos.keys():\n",
    "            print('ya existe')\n",
    "\n",
    "        else:\n",
    "            self.productos[id_producto] = [nombre, precio, stock]\n",
    "            print('no estaba, se acaba de agregar')\n",
    "        \n",
    "    def eliminar_producto(self,id_producto):\n",
    "\n",
    "        if id_producto in self.productos.keys():\n",
    "            self.productos.pop(id_producto)\n",
    "            print('se ha eliminado')\n",
    "\n",
    "        else:\n",
    "            print('no existe')\n",
    "    \n",
    "    def agregar_cliente(self,id_cliente, nombre, email):\n",
    "\n",
    "        if id_cliente in self.clientes:\n",
    "            print('ya existe este cliente')\n",
    "\n",
    "        else:\n",
    "            self.clientes[id_cliente] = [nombre, email]\n",
    "            print('no estaba, se acaba de agregar el cliente')\n",
    "\n",
    "    def realizar_venta(self, id_cliente, id_producto, cantidad):\n",
    "\n",
    "        if id_producto in self.productos and id_cliente in self.clientes:\n",
    "        \n",
    "            if self.productos[id_producto][2] >= cantidad:\n",
    "                \n",
    "                id_venta = len(self.ventas) + 1              \n",
    "                self.ventas.append((id_venta, id_cliente, id_producto, cantidad))               \n",
    "                self.productos[id_producto][2] -= cantidad                \n",
    "                print(f\"Venta realizada con éxito. ID de venta: {id_venta}\")\n",
    "                return self.productos\n",
    "            \n",
    "            else:\n",
    "                print(\"No hay suficiente stock para realizar la venta.\")\n",
    "        else:\n",
    "            print(\"Cliente o producto no encontrados en la base de datos.\")\n",
    "\n",
    "    def obtener_inventario(self):\n",
    "        \n",
    "        inventario = {}\n",
    "        \n",
    "        for id_producto, producto_info in self.productos.items():\n",
    "            \n",
    "            nombre, precio, stock = producto_info\n",
    "            \n",
    "            ventas_producto = 0\n",
    "            for venta in self.ventas:\n",
    "                   \n",
    "                if venta[2] == id_producto:\n",
    "                     \n",
    "                    ventas_producto += venta[3]\n",
    "            \n",
    "            inventario[id_producto] = {\"Nombre\": nombre, \"Precio\": precio, \"Stock Disponible\": stock, \"Stock Vendido\": ventas_producto, \"Stock Total\": stock + ventas_producto}\n",
    "    \n",
    "        return inventario\n",
    "\n"
   ]
  },
  {
   "cell_type": "code",
   "execution_count": null,
   "id": "2847e40a",
   "metadata": {},
   "outputs": [],
   "source": [
    "# metodo constructor\n",
    "def __init__(self, nombre):\n",
    "\n",
    "    self.nombre = nombre\n",
    "    self.productos = {}\n",
    "    self.clientes = {}\n",
    "    self.ventas = []\n",
    "\n"
   ]
  },
  {
   "cell_type": "code",
   "execution_count": null,
   "id": "659df34c",
   "metadata": {},
   "outputs": [],
   "source": [
    "# metodo agregar producto\n",
    "\n",
    "productos = {}\n",
    "def agregar_producto(self, id_producto, nombre, precio, stock):\n",
    "\n",
    "    if id_producto in self.productos:\n",
    "        print('ya existe')\n",
    "\n",
    "    else:\n",
    "        self.productos[id_producto] = [nombre, precio, stock]\n",
    "        print('no estaba, se acaba de agregar')"
   ]
  },
  {
   "cell_type": "code",
   "execution_count": 27,
   "id": "c32f5664",
   "metadata": {},
   "outputs": [
    {
     "name": "stdout",
     "output_type": "stream",
     "text": [
      "no estaba, se acaba de agregar\n"
     ]
    }
   ],
   "source": [
    "agregar_producto(1, 'bolsos', 10, 20)"
   ]
  },
  {
   "cell_type": "code",
   "execution_count": 15,
   "id": "d70ebdfe",
   "metadata": {},
   "outputs": [],
   "source": [
    "# metodo eliminar producto\n",
    "\n",
    "def eliminar_producto(id_producto):\n",
    "\n",
    "    \n",
    "    if id_producto in productos.keys():\n",
    "        productos.pop(id_producto)\n",
    "        print('se ha eliminado')\n",
    "\n",
    "    else:\n",
    "        print('no existe')\n"
   ]
  },
  {
   "cell_type": "code",
   "execution_count": 18,
   "id": "fbc450bf",
   "metadata": {},
   "outputs": [
    {
     "name": "stdout",
     "output_type": "stream",
     "text": [
      "se ha eliminado\n"
     ]
    }
   ],
   "source": [
    "eliminar_producto(1)\n"
   ]
  },
  {
   "cell_type": "code",
   "execution_count": 19,
   "id": "4ace3ed9",
   "metadata": {},
   "outputs": [],
   "source": [
    "# agregar cliente\n",
    "clientes = {}\n",
    "def agregar_cliente(id_cliente, nombre, email):\n",
    "\n",
    "    if id_cliente in clientes:\n",
    "        print('ya existe este cliente')\n",
    "\n",
    "    else:\n",
    "        clientes[id_cliente] = [nombre, email]\n",
    "        print('no estaba, se acaba de agregar el cliente')"
   ]
  },
  {
   "cell_type": "code",
   "execution_count": 26,
   "id": "a5f4e89c",
   "metadata": {},
   "outputs": [
    {
     "name": "stdout",
     "output_type": "stream",
     "text": [
      "ya existe este cliente\n"
     ]
    },
    {
     "data": {
      "text/plain": [
       "{1: ['irene', 'irene@gmail.com']}"
      ]
     },
     "execution_count": 26,
     "metadata": {},
     "output_type": "execute_result"
    }
   ],
   "source": [
    "agregar_cliente(1, 'irene', 'irene@gmail.com')\n",
    "clientes"
   ]
  },
  {
   "cell_type": "code",
   "execution_count": null,
   "id": "e45654e7",
   "metadata": {},
   "outputs": [],
   "source": [
    "# realizar venta\n",
    "\n",
    "def realizar_venta(id_cliente, id_producto, cantidad):\n",
    "\n",
    "    if id_cliente in clientes and id_producto in productos:\n",
    "        if "
   ]
  },
  {
   "cell_type": "code",
   "execution_count": null,
   "id": "90e93423",
   "metadata": {},
   "outputs": [],
   "source": [
    "def funcion()\n",
    "prueba_agregar_producto = {}\n",
    "\n",
    "if \"n\" in prueba_agregar_producto:\n",
    "    print(\"ya existe\")\n",
    "else:\n",
    "    prueba_agregar_producto[\"n\"] = [1]"
   ]
  },
  {
   "cell_type": "code",
   "execution_count": null,
   "id": "286e026c",
   "metadata": {},
   "outputs": [],
   "source": [
    "prueba_agregar_producto = {}\n",
    "if id_producto in prueba_agregar_producto:\n",
    "        print('ya existe')\n",
    "\n",
    "    else:\n",
    "        prueba_agregar_producto[id_producto] = [nombre, precio, stock]\n",
    "        print('no estaba, se acaba de agregar')"
   ]
  },
  {
   "cell_type": "code",
   "execution_count": 24,
   "id": "968c7a5c",
   "metadata": {},
   "outputs": [],
   "source": [
    "ventas = []\n",
    "def realizar_venta(id_cliente, id_producto, cantidad):\n",
    "        # Verifica si el 'id_producto' existe en el diccionario de productos y si el 'id_cliente' existe en el diccionario de clientes\n",
    "        if id_producto in productos and id_cliente in clientes:\n",
    "            # Verifica si hay suficiente stock del producto para la venta\n",
    "            if productos[id_producto][2] >= cantidad:\n",
    "                # Calcula un nuevo ID de venta\n",
    "                id_venta = len(ventas) + 1\n",
    "                # Agrega la venta a la lista de ventas con información de cliente, producto y cantidad\n",
    "                ventas.append((id_venta, id_cliente, id_producto, cantidad))\n",
    "                # Actualiza el stock del producto restando la cantidad vendida\n",
    "                productos[id_producto][2] -= cantidad\n",
    "                # Imprime un mensaje de éxito con el ID de la venta\n",
    "                print(f\"Venta realizada con éxito. ID de venta: {id_venta}\")\n",
    "                # Devuelve el diccionario de productos actualizado\n",
    "                return productos\n",
    "            else:\n",
    "                # Si no hay suficiente stock, muestra un mensaje de error\n",
    "                print(\"No hay suficiente stock para realizar la venta.\")\n",
    "        else:\n",
    "            # Si el cliente o el producto no existen, muestra un mensaje de error\n",
    "            print(\"Cliente o producto no encontrados en la base de datos.\")"
   ]
  },
  {
   "cell_type": "code",
   "execution_count": null,
   "id": "e4c4338a",
   "metadata": {},
   "outputs": [],
   "source": [
    "# obtener inventario nombre, precio, stock_disponible, stock_vendido, stock_total\n",
    "\n",
    "def obtener_inventario(self):\n",
    "\n",
    "    inventario = {productos}\n",
    "    \n"
   ]
  },
  {
   "cell_type": "code",
   "execution_count": null,
   "id": "8959eaa6",
   "metadata": {},
   "outputs": [],
   "source": [
    "def obtener_inventario(self):\n",
    "        \n",
    "        inventario = {}\n",
    "        \n",
    "        for id_producto, producto_info in self.productos.items():\n",
    "            \n",
    "            nombre, precio, stock = producto_info\n",
    "            \n",
    "            ventas_producto = 0\n",
    "            for venta in self.ventas:\n",
    "                   \n",
    "                if venta[2] == id_producto:\n",
    "                     \n",
    "                    ventas_producto += venta[3]\n",
    "            \n",
    "            inventario[id_producto] = {\"Nombre\": nombre, \"Precio\": precio, \"Stock Disponible\": stock, \"Stock Vendido\": ventas_producto, \"Stock Total\": stock + ventas_producto}\n",
    "    \n",
    "        return inventario\n"
   ]
  }
 ],
 "metadata": {
  "kernelspec": {
   "display_name": "base",
   "language": "python",
   "name": "python3"
  },
  "language_info": {
   "codemirror_mode": {
    "name": "ipython",
    "version": 3
   },
   "file_extension": ".py",
   "mimetype": "text/x-python",
   "name": "python",
   "nbconvert_exporter": "python",
   "pygments_lexer": "ipython3",
   "version": "3.12.7"
  }
 },
 "nbformat": 4,
 "nbformat_minor": 5
}
