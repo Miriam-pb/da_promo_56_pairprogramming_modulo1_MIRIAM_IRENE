{
 "cells": [
  {
   "cell_type": "markdown",
   "id": "f873b523",
   "metadata": {},
   "source": [
    "Crea un array 1D con 50 valores aleatorio del 10 al 99. Accede a los elementos en las posiciones múltiplos de 5."
   ]
  },
  {
   "cell_type": "code",
   "execution_count": 1,
   "id": "e96c5d70",
   "metadata": {},
   "outputs": [],
   "source": [
    "import numpy as np"
   ]
  },
  {
   "cell_type": "code",
   "execution_count": 2,
   "id": "59e6ffe6",
   "metadata": {},
   "outputs": [],
   "source": [
    "array1 = np.random.randint(10, 100, size = 50)"
   ]
  },
  {
   "cell_type": "code",
   "execution_count": 3,
   "id": "0f02b90b",
   "metadata": {},
   "outputs": [
    {
     "data": {
      "text/plain": [
       "array([78, 52, 80, 14, 65, 37, 35, 18, 75, 21, 71, 93, 53, 78, 28, 65, 45,\n",
       "       91, 49, 43, 58, 44, 40, 60, 65, 75, 87, 94, 84, 17, 71, 53, 23, 76,\n",
       "       99, 83, 28, 92, 94, 24, 39, 32, 81, 55, 51, 91, 54, 41, 38, 53])"
      ]
     },
     "execution_count": 3,
     "metadata": {},
     "output_type": "execute_result"
    }
   ],
   "source": [
    "array1"
   ]
  },
  {
   "cell_type": "code",
   "execution_count": 4,
   "id": "6482cfad",
   "metadata": {},
   "outputs": [
    {
     "data": {
      "text/plain": [
       "50"
      ]
     },
     "execution_count": 4,
     "metadata": {},
     "output_type": "execute_result"
    }
   ],
   "source": [
    "array1.size"
   ]
  },
  {
   "cell_type": "code",
   "execution_count": 5,
   "id": "d9c92ec3",
   "metadata": {},
   "outputs": [
    {
     "data": {
      "text/plain": [
       "array([37, 71, 65, 58, 75, 71, 83, 39, 91])"
      ]
     },
     "execution_count": 5,
     "metadata": {},
     "output_type": "execute_result"
    }
   ],
   "source": [
    "array1[5::5]"
   ]
  },
  {
   "cell_type": "markdown",
   "id": "bc9fe91d",
   "metadata": {},
   "source": [
    "Crea un array 1D con 30 valores aleatorios del 1 al 20 (ambos incluidos). Utiliza indexación para obtener los elementos en las posiciones impares."
   ]
  },
  {
   "cell_type": "code",
   "execution_count": 6,
   "id": "6916a82b",
   "metadata": {},
   "outputs": [],
   "source": [
    "array2 = np.random.randint(0, 21, size = 30)"
   ]
  },
  {
   "cell_type": "code",
   "execution_count": 7,
   "id": "13a59456",
   "metadata": {},
   "outputs": [
    {
     "data": {
      "text/plain": [
       "array([15,  0,  0, 19, 18,  6, 15, 10,  8, 16, 19,  2,  3, 13, 15,  6,  8,\n",
       "       14, 15, 15, 13, 13,  8, 10,  5, 11, 13, 13,  9,  0])"
      ]
     },
     "execution_count": 7,
     "metadata": {},
     "output_type": "execute_result"
    }
   ],
   "source": [
    "array2"
   ]
  },
  {
   "cell_type": "code",
   "execution_count": 8,
   "id": "69c76d89",
   "metadata": {},
   "outputs": [
    {
     "data": {
      "text/plain": [
       "array([ 0, 19,  6, 10, 16,  2, 13,  6, 14, 15, 13, 10, 11, 13,  0])"
      ]
     },
     "execution_count": 8,
     "metadata": {},
     "output_type": "execute_result"
    }
   ],
   "source": [
    "array2[1::2]"
   ]
  },
  {
   "cell_type": "markdown",
   "id": "4072e1a2",
   "metadata": {},
   "source": [
    "\n",
    "Crea un array 2D de forma (4, 6) con números aleatorios decimales (no deben estar comprendidos solo entre 0 y 1). Accede a la última fila de la matriz. Los decimales deben estar redondeados a 2 decimales."
   ]
  },
  {
   "cell_type": "code",
   "execution_count": 11,
   "id": "8b64904d",
   "metadata": {},
   "outputs": [],
   "source": [
    "array_enteros = np.random.randint(1, 99, (4,6))"
   ]
  },
  {
   "cell_type": "code",
   "execution_count": 12,
   "id": "22efac62",
   "metadata": {},
   "outputs": [
    {
     "data": {
      "text/plain": [
       "array([[20, 68, 66, 68, 21, 90],\n",
       "       [ 8, 50, 25, 63,  1, 51],\n",
       "       [87, 89, 14, 66, 92, 85],\n",
       "       [53, 73, 53, 85, 47, 25]])"
      ]
     },
     "execution_count": 12,
     "metadata": {},
     "output_type": "execute_result"
    }
   ],
   "source": [
    "array_enteros"
   ]
  },
  {
   "cell_type": "code",
   "execution_count": 20,
   "id": "efd91674",
   "metadata": {},
   "outputs": [
    {
     "name": "stdout",
     "output_type": "stream",
     "text": [
      "[[50.56600539 21.66867852 16.57585657 42.29138375 64.06258288 90.66124406]\n",
      " [10.95129518 44.89795889 27.39086211 28.99469431 93.23910111 50.66984914]\n",
      " [73.38943265 21.10868543 87.27657573 38.37558741 34.08711582 37.88353617]\n",
      " [72.43226081 63.78991177 53.36922223 55.64675826 44.58600739  1.40582365]]\n"
     ]
    }
   ],
   "source": [
    "array_decimales = np.random.rand(4,6) + np.random.randint(1, 99, (4,6))\n",
    "print(array_decimales)"
   ]
  },
  {
   "cell_type": "code",
   "execution_count": 21,
   "id": "e379735d",
   "metadata": {},
   "outputs": [
    {
     "name": "stdout",
     "output_type": "stream",
     "text": [
      "[[50.57 21.67 16.58 42.29 64.06 90.66]\n",
      " [10.95 44.9  27.39 28.99 93.24 50.67]\n",
      " [73.39 21.11 87.28 38.38 34.09 37.88]\n",
      " [72.43 63.79 53.37 55.65 44.59  1.41]]\n"
     ]
    }
   ],
   "source": [
    "array_decimales_round = np.round(array_decimales, 2)\n",
    "print(array_decimales_round)"
   ]
  },
  {
   "cell_type": "code",
   "execution_count": 23,
   "id": "7ed2bac4",
   "metadata": {},
   "outputs": [
    {
     "data": {
      "text/plain": [
       "array([72.43, 63.79, 53.37, 55.65, 44.59,  1.41])"
      ]
     },
     "execution_count": 23,
     "metadata": {},
     "output_type": "execute_result"
    }
   ],
   "source": [
    "array_decimales_round[-1]"
   ]
  },
  {
   "cell_type": "markdown",
   "id": "449ac107",
   "metadata": {},
   "source": [
    "Crea un array de tres 3D con elementos entre el 0 y 1 de forma (2, 3, 5) cuyos valores solo tengan 1 decimal."
   ]
  },
  {
   "cell_type": "code",
   "execution_count": 33,
   "id": "992e46d1",
   "metadata": {},
   "outputs": [
    {
     "name": "stdout",
     "output_type": "stream",
     "text": [
      "[[[0.43018992 0.06927458 0.83662717 0.62979528 0.57516722]\n",
      "  [0.87486538 0.40069024 0.99004225 0.90579208 0.63468903]\n",
      "  [0.09192245 0.09467824 0.36065364 0.54704405 0.41636692]]\n",
      "\n",
      " [[0.81399539 0.17524227 0.7958705  0.15152569 0.17154804]\n",
      "  [0.49321912 0.22449916 0.00692627 0.02937403 0.37107942]\n",
      "  [0.49010866 0.35762197 0.44272448 0.75360064 0.03373556]]]\n"
     ]
    }
   ],
   "source": [
    "array3 = np.random.rand(2,3,5)\n",
    "print(array3)"
   ]
  },
  {
   "cell_type": "code",
   "execution_count": 34,
   "id": "98b41aff",
   "metadata": {},
   "outputs": [
    {
     "data": {
      "text/plain": [
       "3"
      ]
     },
     "execution_count": 34,
     "metadata": {},
     "output_type": "execute_result"
    }
   ],
   "source": [
    "array3.ndim"
   ]
  },
  {
   "cell_type": "code",
   "execution_count": 36,
   "id": "21387d77",
   "metadata": {},
   "outputs": [
    {
     "name": "stdout",
     "output_type": "stream",
     "text": [
      "[[[0.4 0.1 0.8 0.6 0.6]\n",
      "  [0.9 0.4 1.  0.9 0.6]\n",
      "  [0.1 0.1 0.4 0.5 0.4]]\n",
      "\n",
      " [[0.8 0.2 0.8 0.2 0.2]\n",
      "  [0.5 0.2 0.  0.  0.4]\n",
      "  [0.5 0.4 0.4 0.8 0. ]]]\n"
     ]
    }
   ],
   "source": [
    "array3_round = np.round(array3, 1)\n",
    "print(array3_round)"
   ]
  },
  {
   "cell_type": "markdown",
   "id": "bf94e237",
   "metadata": {},
   "source": [
    "Crea un array vacío con la misma forma y dimensiones que el array creado anteriormente."
   ]
  },
  {
   "cell_type": "code",
   "execution_count": 39,
   "id": "d02ce716",
   "metadata": {},
   "outputs": [
    {
     "name": "stdout",
     "output_type": "stream",
     "text": [
      "[[[0.4 0.1 0.8 0.6 0.6]\n",
      "  [0.9 0.4 1.  0.9 0.6]\n",
      "  [0.1 0.1 0.4 0.5 0.4]]\n",
      "\n",
      " [[0.8 0.2 0.8 0.2 0.2]\n",
      "  [0.5 0.2 0.  0.  0.4]\n",
      "  [0.5 0.4 0.4 0.8 0. ]]]\n"
     ]
    }
   ],
   "source": [
    "array_vacio = np.empty((2,3,5))\n",
    "print(array_vacio)"
   ]
  },
  {
   "cell_type": "markdown",
   "id": "a0afe7c5",
   "metadata": {},
   "source": [
    "Vamos a reemplazar los valores de la matriz vacía que nos acabamos de crear pero basándonos en los valores del primer array bajo las siguientes condiciones:"
   ]
  },
  {
   "cell_type": "code",
   "execution_count": 41,
   "id": "6cc897e0",
   "metadata": {},
   "outputs": [
    {
     "name": "stdout",
     "output_type": "stream",
     "text": [
      "0.44000000000000006\n"
     ]
    }
   ],
   "source": [
    "media = np.mean(array3_round)\n",
    "print(media)"
   ]
  },
  {
   "cell_type": "code",
   "execution_count": 44,
   "id": "b2506195",
   "metadata": {},
   "outputs": [
    {
     "name": "stdout",
     "output_type": "stream",
     "text": [
      "0.4\n"
     ]
    }
   ],
   "source": [
    "media_round = np.round(media, 1)\n",
    "print(media_round)"
   ]
  },
  {
   "cell_type": "code",
   "execution_count": 52,
   "id": "735fe5cd",
   "metadata": {},
   "outputs": [
    {
     "data": {
      "text/plain": [
       "array([[['A', '0.1', '0.8', '0.6', '0.6'],\n",
       "        ['0.9', 'A', '1.0', '0.9', '0.6'],\n",
       "        ['0.1', '0.1', 'A', '0.5', 'A']],\n",
       "\n",
       "       [['0.8', '0.2', '0.8', '0.2', '0.2'],\n",
       "        ['0.5', '0.2', '0.0', '0.0', 'A'],\n",
       "        ['0.5', 'A', 'A', '0.8', '0.0']]], dtype='<U32')"
      ]
     },
     "execution_count": 52,
     "metadata": {},
     "output_type": "execute_result"
    }
   ],
   "source": [
    "np.where(array_vacio == media_round,'A', array_vacio)"
   ]
  },
  {
   "cell_type": "code",
   "execution_count": 38,
   "id": "f092293a",
   "metadata": {},
   "outputs": [],
   "source": [
    "arraym = np.round(np.random.rand(2, 3, 5), 1)"
   ]
  },
  {
   "cell_type": "code",
   "execution_count": 39,
   "id": "f5059590",
   "metadata": {},
   "outputs": [
    {
     "data": {
      "text/plain": [
       "array([[[0.1, 0.9, 0.7, 0.2, 0.7],\n",
       "        [0.5, 0.7, 0.3, 0.7, 0.3],\n",
       "        [0.7, 0.9, 0.8, 0.3, 0.6]],\n",
       "\n",
       "       [[0.3, 0.7, 0.1, 0.5, 0.7],\n",
       "        [0. , 0.4, 0.7, 0.6, 0. ],\n",
       "        [0.9, 0. , 0. , 0.8, 0.1]]])"
      ]
     },
     "execution_count": 39,
     "metadata": {},
     "output_type": "execute_result"
    }
   ],
   "source": [
    "arraym"
   ]
  },
  {
   "cell_type": "code",
   "execution_count": 40,
   "id": "279f851b",
   "metadata": {},
   "outputs": [],
   "source": [
    "arrayi = np.empty((2, 3, 5))"
   ]
  },
  {
   "cell_type": "code",
   "execution_count": 41,
   "id": "42e0fdb2",
   "metadata": {},
   "outputs": [
    {
     "data": {
      "text/plain": [
       "array([[[0.1, 0.9, 0.7, 0.2, 0.7],\n",
       "        [0.5, 0.7, 0.3, 0.7, 0.3],\n",
       "        [0.7, 0.9, 0.8, 0.3, 0.6]],\n",
       "\n",
       "       [[0.3, 0.7, 0.1, 0.5, 0.7],\n",
       "        [0. , 0.4, 0.7, 0.6, 0. ],\n",
       "        [0.9, 0. , 0. , 0.8, 0.1]]])"
      ]
     },
     "execution_count": 41,
     "metadata": {},
     "output_type": "execute_result"
    }
   ],
   "source": [
    "arrayi"
   ]
  },
  {
   "cell_type": "code",
   "execution_count": 42,
   "id": "bd882923",
   "metadata": {},
   "outputs": [
    {
     "name": "stdout",
     "output_type": "stream",
     "text": [
      "0.5\n",
      "0.9\n",
      "0.0\n"
     ]
    }
   ],
   "source": [
    "mascara_media = np.round(np.mean(arrayi), 1) \n",
    "print(mascara_media)\n",
    "mascara_max = np.max(arrayi)\n",
    "print(mascara_max)\n",
    "mascara_min = np.min(arrayi)\n",
    "print(mascara_min)"
   ]
  },
  {
   "cell_type": "code",
   "execution_count": null,
   "id": "bff1c13b",
   "metadata": {},
   "outputs": [
    {
     "name": "stdout",
     "output_type": "stream",
     "text": [
      "[[['C' 'B' 'B' 'C' 'B']\n",
      "  ['A' 'B' 'C' 'B' 'C']\n",
      "  ['B' 'B' 'B' 'C' 'B']]\n",
      "\n",
      " [['C' 'B' 'C' 'A' 'B']\n",
      "  ['E' 'C' 'B' 'B' 'E']\n",
      "  ['B' 'E' 'E' 'B' 'C']]]\n"
     ]
    }
   ],
   "source": [
    "arrayi = np.where(arraym == mascara_media, 'A', np.where(arraym > mascara_media, 'B', \n",
    "np.where(arraym == mascara_max, 'D', \n",
    "np.where(arraym == mascara_min, 'E', 'C'))))\n",
    "print(arrayi)"
   ]
  },
  {
   "cell_type": "markdown",
   "id": "17f6a97e",
   "metadata": {},
   "source": [
    "\n",
    "Crea un array 3D de forma (2, 3, 5) y 30 elementos con números enteros entre 0 y 100 (ambos incluidos). Reemplaza los elementos en posiciones múltiplos de 3 por 0."
   ]
  },
  {
   "cell_type": "code",
   "execution_count": 48,
   "id": "7ea81125",
   "metadata": {},
   "outputs": [
    {
     "name": "stdout",
     "output_type": "stream",
     "text": [
      "[[[ 96  90   2  13  93]\n",
      "  [ 62 100  72  90  86]\n",
      "  [ 73  43  94  85  45]]\n",
      "\n",
      " [[ 10  86   9  17  41]\n",
      "  [ 48  73  96  13  55]\n",
      "  [ 14  71  60  16  22]]]\n"
     ]
    }
   ],
   "source": [
    "arrayp= np.random.randint(0, 101, (2,3,5))\n",
    "print(arrayp)"
   ]
  },
  {
   "cell_type": "code",
   "execution_count": null,
   "id": "e4aaa2af",
   "metadata": {},
   "outputs": [],
   "source": [
    "arrayp[:, :, 0::3] = 0 "
   ]
  },
  {
   "cell_type": "code",
   "execution_count": 50,
   "id": "1cc6cde0",
   "metadata": {},
   "outputs": [
    {
     "name": "stdout",
     "output_type": "stream",
     "text": [
      "[[[  0  90   2   0  93]\n",
      "  [  0 100  72   0  86]\n",
      "  [  0  43  94   0  45]]\n",
      "\n",
      " [[  0  86   9   0  41]\n",
      "  [  0  73  96   0  55]\n",
      "  [  0  71  60   0  22]]]\n"
     ]
    }
   ],
   "source": [
    "print(arrayp)"
   ]
  },
  {
   "cell_type": "markdown",
   "id": "e44d62e5",
   "metadata": {},
   "source": [
    "🔍 ¿Qué hace arrayp[:, :, 0::3] = 0?\n",
    "Este código usa indexación avanzada sobre un array 3D.\n",
    "\n",
    "Supongamos que arrayp tiene forma (2, 3, 5), es decir:\n",
    "\n",
    "diff\n",
    "Copiar\n",
    "Editar\n",
    "- 2 bloques (dimensión 0)\n",
    "- 3 filas por bloque (dimensión 1)\n",
    "- 5 columnas por fila (dimensión 2)\n",
    "La expresión arrayp[:, :, 0::3] significa:\n",
    "\n",
    "Parte\tSignificado\n",
    ": (1ª dim)\tTodos los bloques\n",
    ": (2ª dim)\tTodas las filas\n",
    "0::3 (3ª dim)\tColumnas en posiciones 0, 3, 6, ..."
   ]
  },
  {
   "cell_type": "markdown",
   "id": "0f03e8f0",
   "metadata": {},
   "source": [
    "Crea un array 3D de forma (2, 3, 4) con valores aleatorios entre 1 y 100 (ambos inclusive). Utiliza reshape para convertirlo en un array 2D. Deberás pensar en la forma que es correcta para hacer este cambio."
   ]
  },
  {
   "cell_type": "code",
   "execution_count": 53,
   "id": "56fac19e",
   "metadata": {},
   "outputs": [],
   "source": [
    "arrayp2 = arrayp.reshape(6,5)"
   ]
  },
  {
   "cell_type": "code",
   "execution_count": 54,
   "id": "a4a8a498",
   "metadata": {},
   "outputs": [
    {
     "data": {
      "text/plain": [
       "2"
      ]
     },
     "execution_count": 54,
     "metadata": {},
     "output_type": "execute_result"
    }
   ],
   "source": [
    "arrayp2.ndim"
   ]
  },
  {
   "cell_type": "code",
   "execution_count": 56,
   "id": "9d11baf9",
   "metadata": {},
   "outputs": [
    {
     "data": {
      "text/plain": [
       "array([[['C', 'C'],\n",
       "        ['A', 'E'],\n",
       "        ['B', 'B']],\n",
       "\n",
       "       [['B', 'B'],\n",
       "        ['B', 'C'],\n",
       "        ['B', 'E']],\n",
       "\n",
       "       [['B', 'C'],\n",
       "        ['C', 'B'],\n",
       "        ['B', 'E']],\n",
       "\n",
       "       [['C', 'A'],\n",
       "        ['B', 'B'],\n",
       "        ['C', 'B']],\n",
       "\n",
       "       [['B', 'B'],\n",
       "        ['C', 'E'],\n",
       "        ['B', 'C']]], dtype='<U1')"
      ]
     },
     "execution_count": 56,
     "metadata": {},
     "output_type": "execute_result"
    }
   ],
   "source": [
    "arrayi.transpose()"
   ]
  },
  {
   "cell_type": "code",
   "execution_count": 57,
   "id": "46130059",
   "metadata": {},
   "outputs": [
    {
     "data": {
      "text/plain": [
       "array([[  0,   0,   0,   0,   0,   0],\n",
       "       [ 90, 100,  43,  86,  73,  71],\n",
       "       [  2,  72,  94,   9,  96,  60],\n",
       "       [  0,   0,   0,   0,   0,   0],\n",
       "       [ 93,  86,  45,  41,  55,  22]])"
      ]
     },
     "execution_count": 57,
     "metadata": {},
     "output_type": "execute_result"
    }
   ],
   "source": [
    "arrayp2.transpose()"
   ]
  }
 ],
 "metadata": {
  "kernelspec": {
   "display_name": "base",
   "language": "python",
   "name": "python3"
  },
  "language_info": {
   "codemirror_mode": {
    "name": "ipython",
    "version": 3
   },
   "file_extension": ".py",
   "mimetype": "text/x-python",
   "name": "python",
   "nbconvert_exporter": "python",
   "pygments_lexer": "ipython3",
   "version": "3.12.7"
  }
 },
 "nbformat": 4,
 "nbformat_minor": 5
}
