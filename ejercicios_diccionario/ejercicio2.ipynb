{
 "cells": [
  {
   "cell_type": "code",
   "execution_count": 1,
   "id": "3ad52c5e",
   "metadata": {},
   "outputs": [],
   "source": [
    "jugador1 = input('hola! cual es tu nombre')"
   ]
  },
  {
   "cell_type": "code",
   "execution_count": 2,
   "id": "51328671",
   "metadata": {},
   "outputs": [],
   "source": [
    "jugador2 = input('hola! cual es tu nombre')"
   ]
  },
  {
   "cell_type": "code",
   "execution_count": 3,
   "id": "87ddfc6b",
   "metadata": {},
   "outputs": [],
   "source": [
    "jugador1_eleccion = input('elige entre piedra, papel o tijera')\n"
   ]
  },
  {
   "cell_type": "code",
   "execution_count": 4,
   "id": "75121e0a",
   "metadata": {},
   "outputs": [],
   "source": [
    "jugador2_eleccion = input('elige entre piedra, papel o tijera')"
   ]
  },
  {
   "cell_type": "code",
   "execution_count": 5,
   "id": "22c46ddb",
   "metadata": {},
   "outputs": [],
   "source": [
    "ganador = 3"
   ]
  },
  {
   "cell_type": "code",
   "execution_count": 6,
   "id": "9ce9cd26",
   "metadata": {},
   "outputs": [],
   "source": [
    "puntuacion1 = 0\n",
    "puntuacion2 = 0"
   ]
  },
  {
   "cell_type": "code",
   "execution_count": null,
   "id": "c825106b",
   "metadata": {},
   "outputs": [],
   "source": [
    "if jugador1_eleccion == jugador2_eleccion:\n",
    "    print('es un empate')\n",
    "elif jugador1_eleccion "
   ]
  },
  {
   "cell_type": "code",
   "execution_count": 7,
   "id": "6a0ff782",
   "metadata": {},
   "outputs": [
    {
     "name": "stdout",
     "output_type": "stream",
     "text": [
      "The Zen of Python, by Tim Peters\n",
      "\n",
      "Beautiful is better than ugly.\n",
      "Explicit is better than implicit.\n",
      "Simple is better than complex.\n",
      "Complex is better than complicated.\n",
      "Flat is better than nested.\n",
      "Sparse is better than dense.\n",
      "Readability counts.\n",
      "Special cases aren't special enough to break the rules.\n",
      "Although practicality beats purity.\n",
      "Errors should never pass silently.\n",
      "Unless explicitly silenced.\n",
      "In the face of ambiguity, refuse the temptation to guess.\n",
      "There should be one-- and preferably only one --obvious way to do it.\n",
      "Although that way may not be obvious at first unless you're Dutch.\n",
      "Now is better than never.\n",
      "Although never is often better than *right* now.\n",
      "If the implementation is hard to explain, it's a bad idea.\n",
      "If the implementation is easy to explain, it may be a good idea.\n",
      "Namespaces are one honking great idea -- let's do more of those!\n"
     ]
    }
   ],
   "source": [
    "#zen de python\n",
    "import this"
   ]
  }
 ],
 "metadata": {
  "kernelspec": {
   "display_name": "base",
   "language": "python",
   "name": "python3"
  },
  "language_info": {
   "codemirror_mode": {
    "name": "ipython",
    "version": 3
   },
   "file_extension": ".py",
   "mimetype": "text/x-python",
   "name": "python",
   "nbconvert_exporter": "python",
   "pygments_lexer": "ipython3",
   "version": "3.12.7"
  }
 },
 "nbformat": 4,
 "nbformat_minor": 5
}
