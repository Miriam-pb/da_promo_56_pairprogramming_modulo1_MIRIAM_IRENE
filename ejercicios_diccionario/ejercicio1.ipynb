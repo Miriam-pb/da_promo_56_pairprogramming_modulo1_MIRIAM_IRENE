{
 "cells": [
  {
   "cell_type": "code",
   "execution_count": 43,
   "id": "f0bdefe1",
   "metadata": {},
   "outputs": [],
   "source": [
    "dic_vacio = {}"
   ]
  },
  {
   "cell_type": "code",
   "execution_count": 44,
   "id": "2129ed80",
   "metadata": {},
   "outputs": [
    {
     "name": "stdout",
     "output_type": "stream",
     "text": [
      "{}\n"
     ]
    }
   ],
   "source": [
    "print(dic_vacio)"
   ]
  },
  {
   "cell_type": "code",
   "execution_count": 4,
   "id": "3b8ee4d5",
   "metadata": {},
   "outputs": [],
   "source": [
    "dic1 = {1: 'numero', 'notas': [4,8,10], 'nombres': ['irene', 'miriam'], 50: 'total'}"
   ]
  },
  {
   "cell_type": "code",
   "execution_count": 46,
   "id": "58042b37",
   "metadata": {},
   "outputs": [],
   "source": [
    "dic_prueba = {'notas': [4,8,10], 'nombres': ['irene', 'miriam'], True: (3,6,9), 50: 'total'}"
   ]
  },
  {
   "cell_type": "code",
   "execution_count": 47,
   "id": "f3f55589",
   "metadata": {},
   "outputs": [
    {
     "name": "stdout",
     "output_type": "stream",
     "text": [
      "{'notas': [4, 8, 10], 'nombres': ['irene', 'miriam'], True: (3, 6, 9), 50: 'total'}\n"
     ]
    }
   ],
   "source": [
    "print(dic_prueba)"
   ]
  },
  {
   "cell_type": "code",
   "execution_count": 48,
   "id": "10318925",
   "metadata": {},
   "outputs": [
    {
     "name": "stdout",
     "output_type": "stream",
     "text": [
      "{1: (3, 6, 9), 'notas': [4, 8, 10], 'nombres': ['irene', 'miriam'], 50: 'total'}\n"
     ]
    }
   ],
   "source": [
    "print(dic1)"
   ]
  },
  {
   "cell_type": "code",
   "execution_count": 49,
   "id": "d5274599",
   "metadata": {},
   "outputs": [],
   "source": [
    "dic1 = {1: 'numero', 'notas': [4,8,10], 'nombres': ['irene', 'miriam'], 'x': (1,12,3), 50: 'total'}"
   ]
  },
  {
   "cell_type": "code",
   "execution_count": 50,
   "id": "1107dee2",
   "metadata": {},
   "outputs": [
    {
     "name": "stdout",
     "output_type": "stream",
     "text": [
      "{1: 'numero', 'notas': [4, 8, 10], 'nombres': ['irene', 'miriam'], 'x': (1, 12, 3), 50: 'total'}\n"
     ]
    }
   ],
   "source": [
    "print(dic1)"
   ]
  },
  {
   "cell_type": "code",
   "execution_count": 5,
   "id": "6fadffba",
   "metadata": {},
   "outputs": [
    {
     "name": "stdout",
     "output_type": "stream",
     "text": [
      "este es el valor de tu clave:  numero\n"
     ]
    }
   ],
   "source": [
    "\n",
    "print('este es el valor de tu clave: ', dic1.get(int(input('elige una key'))))\n",
    "\n",
    "\n"
   ]
  },
  {
   "cell_type": "code",
   "execution_count": 52,
   "id": "9fc5ec12",
   "metadata": {},
   "outputs": [
    {
     "data": {
      "text/plain": [
       "'dos'"
      ]
     },
     "execution_count": 52,
     "metadata": {},
     "output_type": "execute_result"
    }
   ],
   "source": [
    "dic1.setdefault(2, 'dos')"
   ]
  },
  {
   "cell_type": "code",
   "execution_count": 53,
   "id": "9a294eb4",
   "metadata": {},
   "outputs": [
    {
     "name": "stdout",
     "output_type": "stream",
     "text": [
      "{1: 'numero', 'notas': [4, 8, 10], 'nombres': ['irene', 'miriam'], 'x': (1, 12, 3), 50: 'total', 2: 'dos'}\n"
     ]
    }
   ],
   "source": [
    "print(dic1)"
   ]
  },
  {
   "cell_type": "code",
   "execution_count": 6,
   "id": "ed5b0521",
   "metadata": {},
   "outputs": [
    {
     "name": "stdout",
     "output_type": "stream",
     "text": [
      "{1: 'numero', 'notas': [4, 9, 10], 'nombres': ['irene', 'miriam'], 50: 'total'}\n"
     ]
    }
   ],
   "source": [
    "dic1['notas'][1] = 9\n",
    "print(dic1)"
   ]
  },
  {
   "cell_type": "code",
   "execution_count": 56,
   "id": "f07a2a58",
   "metadata": {},
   "outputs": [
    {
     "data": {
      "text/plain": [
       "'numero'"
      ]
     },
     "execution_count": 56,
     "metadata": {},
     "output_type": "execute_result"
    }
   ],
   "source": [
    "dic1.pop(int(input('elige una key')))\n"
   ]
  },
  {
   "cell_type": "code",
   "execution_count": 57,
   "id": "0e855e49",
   "metadata": {},
   "outputs": [
    {
     "name": "stdout",
     "output_type": "stream",
     "text": [
      "{'notas': [4, 9, 10], 'nombres': ['irene', 'miriam'], 'x': (1, 12, 3), 50: 'total', 2: 'dos'}\n"
     ]
    }
   ],
   "source": [
    "print(dic1)"
   ]
  },
  {
   "cell_type": "code",
   "execution_count": 65,
   "id": "b291740d",
   "metadata": {},
   "outputs": [
    {
     "data": {
      "text/plain": [
       "True"
      ]
     },
     "execution_count": 65,
     "metadata": {},
     "output_type": "execute_result"
    }
   ],
   "source": [
    "key = input('escribe una key')\n",
    "key in dic1.keys()"
   ]
  },
  {
   "cell_type": "code",
   "execution_count": 58,
   "id": "3bc976bf",
   "metadata": {},
   "outputs": [
    {
     "data": {
      "text/plain": [
       "['irene', 'miriam']"
      ]
     },
     "execution_count": 58,
     "metadata": {},
     "output_type": "execute_result"
    }
   ],
   "source": [
    "dic1.get(input('key'), 'no esta')"
   ]
  },
  {
   "cell_type": "code",
   "execution_count": 59,
   "id": "185813ef",
   "metadata": {},
   "outputs": [
    {
     "data": {
      "text/plain": [
       "dict_keys(['notas', 'nombres', 'x', 50, 2])"
      ]
     },
     "execution_count": 59,
     "metadata": {},
     "output_type": "execute_result"
    }
   ],
   "source": [
    "dic1.keys()"
   ]
  },
  {
   "cell_type": "code",
   "execution_count": 60,
   "id": "bf26989f",
   "metadata": {},
   "outputs": [
    {
     "data": {
      "text/plain": [
       "dict_values([[4, 9, 10], ['irene', 'miriam'], (1, 12, 3), 'total', 'dos'])"
      ]
     },
     "execution_count": 60,
     "metadata": {},
     "output_type": "execute_result"
    }
   ],
   "source": [
    "dic1.values()"
   ]
  },
  {
   "cell_type": "code",
   "execution_count": 61,
   "id": "17c5bfbb",
   "metadata": {},
   "outputs": [
    {
     "data": {
      "text/plain": [
       "'adios'"
      ]
     },
     "execution_count": 61,
     "metadata": {},
     "output_type": "execute_result"
    }
   ],
   "source": [
    "dic1.setdefault('hola', 'adios')"
   ]
  },
  {
   "cell_type": "code",
   "execution_count": 62,
   "id": "3f84afb2",
   "metadata": {},
   "outputs": [
    {
     "name": "stdout",
     "output_type": "stream",
     "text": [
      "{'notas': [4, 9, 10], 'nombres': ['irene', 'miriam'], 'x': (1, 12, 3), 50: 'total', 2: 'dos', 'hola': 'adios'}\n"
     ]
    }
   ],
   "source": [
    "print(dic1)"
   ]
  },
  {
   "cell_type": "code",
   "execution_count": 63,
   "id": "e132b1f8",
   "metadata": {},
   "outputs": [
    {
     "name": "stdout",
     "output_type": "stream",
     "text": [
      "{'notas': [4, 9, 10], 'nombres': ['irene', 'miriam'], 50: 'total', 2: 'dos', 'hola': 'adios'}\n"
     ]
    }
   ],
   "source": [
    "dic1.pop('x')\n",
    "print(dic1)"
   ]
  },
  {
   "cell_type": "code",
   "execution_count": 64,
   "id": "0302a3ff",
   "metadata": {},
   "outputs": [
    {
     "name": "stdout",
     "output_type": "stream",
     "text": [
      "{'notas': [4, 9, 10], 'nombres': ['irene', 'miriam'], 50: 'total', 2: 'dos'}\n"
     ]
    }
   ],
   "source": [
    "dic1.popitem()\n",
    "print(dic1)"
   ]
  }
 ],
 "metadata": {
  "kernelspec": {
   "display_name": "base",
   "language": "python",
   "name": "python3"
  },
  "language_info": {
   "codemirror_mode": {
    "name": "ipython",
    "version": 3
   },
   "file_extension": ".py",
   "mimetype": "text/x-python",
   "name": "python",
   "nbconvert_exporter": "python",
   "pygments_lexer": "ipython3",
   "version": "3.12.7"
  }
 },
 "nbformat": 4,
 "nbformat_minor": 5
}
