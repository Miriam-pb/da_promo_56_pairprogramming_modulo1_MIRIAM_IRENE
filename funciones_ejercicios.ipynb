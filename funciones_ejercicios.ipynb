{
 "cells": [
  {
   "cell_type": "markdown",
   "id": "72de081b",
   "metadata": {},
   "source": [
    "Calcular el área de un círculo.\n",
    "\n",
    "Descripción: Crea una función llamada calcular_area_circulo que tome el radio como parámetro y devuelva el área del círculo. A = pi * r**2"
   ]
  },
  {
   "cell_type": "code",
   "execution_count": null,
   "id": "0c44e708",
   "metadata": {},
   "outputs": [],
   "source": [
    "import math\n",
    "\n",
    "def calcular_area(radio):\n",
    "    area = math.pi * radio**2\n",
    "    return area"
   ]
  },
  {
   "cell_type": "code",
   "execution_count": 6,
   "id": "36a683d0",
   "metadata": {},
   "outputs": [
    {
     "name": "stdout",
     "output_type": "stream",
     "text": [
      "12.566370614359172\n"
     ]
    }
   ],
   "source": [
    "calcular_area(2)"
   ]
  },
  {
   "cell_type": "code",
   "execution_count": null,
   "id": "23f34410",
   "metadata": {},
   "outputs": [
    {
     "name": "stdout",
     "output_type": "stream",
     "text": [
      "3.141592653589793\n"
     ]
    }
   ],
   "source": [
    "print(math.pi)"
   ]
  },
  {
   "cell_type": "code",
   "execution_count": 4,
   "id": "a65c07b4",
   "metadata": {},
   "outputs": [
    {
     "name": "stdout",
     "output_type": "stream",
     "text": [
      "12.566370614359172\n"
     ]
    }
   ],
   "source": [
    "radio = 2\n",
    "area = math.pi * radio**2\n",
    "print(area)"
   ]
  },
  {
   "cell_type": "markdown",
   "id": "61391b78",
   "metadata": {},
   "source": [
    "Descripción: Crea una función llamada contar_caracteres que tome una cadena como parámetro y devuelva la cantidad de caracteres que contiene."
   ]
  },
  {
   "cell_type": "code",
   "execution_count": 14,
   "id": "7dde3b10",
   "metadata": {},
   "outputs": [
    {
     "data": {
      "text/plain": [
       "16"
      ]
     },
     "execution_count": 14,
     "metadata": {},
     "output_type": "execute_result"
    }
   ],
   "source": [
    "cadena = 'estamos probando'\n",
    "len(cadena)"
   ]
  },
  {
   "cell_type": "code",
   "execution_count": 17,
   "id": "d25e8c5f",
   "metadata": {},
   "outputs": [],
   "source": [
    "def contar_caracteres(cadena):\n",
    "    print(len(cadena))\n"
   ]
  },
  {
   "cell_type": "code",
   "execution_count": 19,
   "id": "075241b2",
   "metadata": {},
   "outputs": [
    {
     "name": "stdout",
     "output_type": "stream",
     "text": [
      "18\n"
     ]
    }
   ],
   "source": [
    "contar_caracteres('hola que tal irene')"
   ]
  },
  {
   "cell_type": "markdown",
   "id": "64b6b8ec",
   "metadata": {},
   "source": [
    "Descripción: Crea una función llamada calcular_promedio que tome una lista de números como parámetro y devuelva el promedio de todos sus elementos."
   ]
  },
  {
   "cell_type": "code",
   "execution_count": null,
   "id": "98a1da49",
   "metadata": {},
   "outputs": [
    {
     "name": "stdout",
     "output_type": "stream",
     "text": [
      "2.0\n"
     ]
    }
   ],
   "source": [
    "# promedio = 'suma de todos los numeros de una lista' / 'la cantidad de numeros'\n",
    "lista_numeros = [1,2,3]\n",
    "sum(lista_numeros)\n",
    "len(lista_numeros)\n",
    "promedio = sum(lista_numeros) / len(lista_numeros)\n",
    "print(promedio)"
   ]
  },
  {
   "cell_type": "code",
   "execution_count": 25,
   "id": "f43c0506",
   "metadata": {},
   "outputs": [],
   "source": [
    "def calcular_promedio(lista_numeros):\n",
    "    promedio = sum(lista_numeros) / len(lista_numeros)\n",
    "    return promedio"
   ]
  },
  {
   "cell_type": "code",
   "execution_count": 26,
   "id": "c866b555",
   "metadata": {},
   "outputs": [
    {
     "data": {
      "text/plain": [
       "2.0"
      ]
     },
     "execution_count": 26,
     "metadata": {},
     "output_type": "execute_result"
    }
   ],
   "source": [
    "calcular_promedio([1,2,3])"
   ]
  },
  {
   "cell_type": "markdown",
   "id": "5e8d5df4",
   "metadata": {},
   "source": [
    "Descripción: Crea una función llamada calcular_interes_compuesto que tome el capital inicial, la tasa de interés y el número de períodos como parámetros y devuelva el beneficio final después del interés compuesto."
   ]
  },
  {
   "cell_type": "code",
   "execution_count": 30,
   "id": "42dc7b96",
   "metadata": {},
   "outputs": [],
   "source": [
    "def calcular_interes_compuesto(p, r, n, t):\n",
    "    a = p * (1 + r/n)**(n*t)\n",
    "    return a"
   ]
  },
  {
   "cell_type": "code",
   "execution_count": null,
   "id": "b09b678c",
   "metadata": {},
   "outputs": [
    {
     "data": {
      "text/plain": [
       "1161.4722313334678"
      ]
     },
     "execution_count": 31,
     "metadata": {},
     "output_type": "execute_result"
    }
   ],
   "source": [
    "calcular_interes_compuesto(1000, 0.05, 12, 3 )"
   ]
  },
  {
   "cell_type": "code",
   "execution_count": 29,
   "id": "ea752cea",
   "metadata": {},
   "outputs": [
    {
     "name": "stdout",
     "output_type": "stream",
     "text": [
      "1161.4722313334678\n"
     ]
    }
   ],
   "source": [
    "# monto total acumulado(capital + intereses) = monto inicial invertido * (1 + tasa de interes anual / numero de veces que el interes se capitaliza por año)**numero de veces que el interes se capitaliza por año*años\n",
    "p = 1000\n",
    "r = 0.05\n",
    "n = 12\n",
    "t = 3\n",
    "a = p * (1 + r/n)**(n*t)\n",
    "print(a)"
   ]
  },
  {
   "cell_type": "markdown",
   "id": "724823bb",
   "metadata": {},
   "source": [
    "Descripción: Crea una función llamada es_anagrama que tome dos palabras como parámetros y devuelva True si una es un anagrama de la otra, o False si no lo es."
   ]
  },
  {
   "cell_type": "code",
   "execution_count": null,
   "id": "465a88f8",
   "metadata": {},
   "outputs": [],
   "source": [
    "def es_anagrama(pal1, pal2):\n"
   ]
  },
  {
   "cell_type": "code",
   "execution_count": null,
   "id": "09def928",
   "metadata": {},
   "outputs": [
    {
     "name": "stdout",
     "output_type": "stream",
     "text": [
      "{}\n",
      "{}\n",
      "{}\n",
      "{}\n"
     ]
    }
   ],
   "source": [
    "pal1 = 'roma'\n",
    "\n",
    "# contar cuantas veces aparece una letra en la palabra y si en las dos palabras ese numero de veces es = 1 son anagramas\n",
    "dic_letras = {}\n",
    "\n",
    "for letra in pal1:\n",
    "    dic_letras.sorted(letra)\n",
    "    print(dic_letras)\n"
   ]
  },
  {
   "cell_type": "code",
   "execution_count": 44,
   "id": "7f3dd8d2",
   "metadata": {},
   "outputs": [],
   "source": [
    "def es_anagrama(palabra1, palabra2):\n",
    "  \n",
    "    # Comprobamos si al ordenar ambas palabras el resultado es igual\n",
    "    return sorted(palabra1) == sorted(palabra2)"
   ]
  },
  {
   "cell_type": "code",
   "execution_count": null,
   "id": "f9576c2f",
   "metadata": {},
   "outputs": [
    {
     "data": {
      "text/plain": [
       "False"
      ]
     },
     "execution_count": 46,
     "metadata": {},
     "output_type": "execute_result"
    }
   ],
   "source": [
    "es_anagrama('amor', 'roma')"
   ]
  },
  {
   "cell_type": "code",
   "execution_count": null,
   "id": "ef1ae20c",
   "metadata": {},
   "outputs": [],
   "source": [
    "def es_anagrama(palabra1, palabra2):\n",
    "    # Convertimos ambas palabras a minúsculas y eliminamos espacios (opcional, por flexibilidad)\n",
    "    palabra1 = palabra1.replace(\" \", \"\").lower()\n",
    "    palabra2 = palabra2.replace(\" \", \"\").lower()\n",
    "\n",
    "    # Comprobamos si al ordenar ambas palabras el resultado es igual\n",
    "    return sorted(palabra1) == sorted(palabra2)"
   ]
  }
 ],
 "metadata": {
  "kernelspec": {
   "display_name": "base",
   "language": "python",
   "name": "python3"
  },
  "language_info": {
   "codemirror_mode": {
    "name": "ipython",
    "version": 3
   },
   "file_extension": ".py",
   "mimetype": "text/x-python",
   "name": "python",
   "nbconvert_exporter": "python",
   "pygments_lexer": "ipython3",
   "version": "3.12.7"
  }
 },
 "nbformat": 4,
 "nbformat_minor": 5
}
