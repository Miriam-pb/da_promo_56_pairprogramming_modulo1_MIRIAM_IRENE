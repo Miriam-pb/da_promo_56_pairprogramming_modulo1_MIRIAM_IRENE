{
 "cells": [
  {
   "cell_type": "code",
   "execution_count": 1,
   "id": "2083634d",
   "metadata": {},
   "outputs": [
    {
     "name": "stdout",
     "output_type": "stream",
     "text": [
      "0\n",
      "1\n",
      "2\n",
      "3\n",
      "4\n",
      "5\n"
     ]
    }
   ],
   "source": [
    "#Imprimir los números del 1 al 5 utilizando un bucle for\n",
    "for n in range(6):\n",
    "    print(n)"
   ]
  },
  {
   "cell_type": "code",
   "execution_count": 6,
   "id": "23144db9",
   "metadata": {},
   "outputs": [
    {
     "name": "stdout",
     "output_type": "stream",
     "text": [
      "55\n"
     ]
    }
   ],
   "source": [
    "#Calcular la suma de los primeros 10 números naturales utilizando un bucle for\n",
    "suma = 0\n",
    "for n1 in range(11):\n",
    "    suma += n1\n",
    "print(suma)"
   ]
  },
  {
   "cell_type": "code",
   "execution_count": 10,
   "id": "0a5575a6",
   "metadata": {},
   "outputs": [
    {
     "name": "stdout",
     "output_type": "stream",
     "text": [
      "120\n"
     ]
    }
   ],
   "source": [
    "#Calcular el producto de los elementos de una lista\n",
    "multiplicacion = 1\n",
    "lista = [1,2,3,4,5]\n",
    "for n2 in lista:\n",
    "    multiplicacion *= n2\n",
    "print(multiplicacion)"
   ]
  },
  {
   "cell_type": "code",
   "execution_count": 13,
   "id": "2a13973c",
   "metadata": {},
   "outputs": [
    {
     "name": "stdout",
     "output_type": "stream",
     "text": [
      "v\n",
      "a\n",
      "m\n",
      "o\n",
      "s\n",
      " \n",
      "a\n",
      " \n",
      "i\n",
      "m\n",
      "p\n",
      "r\n",
      "i\n",
      "m\n",
      "i\n",
      "r\n"
     ]
    }
   ],
   "source": [
    "#Imprimir los caracteres de una cadena de texto\n",
    "cadena = \"vamos a imprimir\"\n",
    "for i in cadena:\n",
    "    print(i)"
   ]
  },
  {
   "cell_type": "code",
   "execution_count": null,
   "id": "9847de0f",
   "metadata": {},
   "outputs": [
    {
     "name": "stdout",
     "output_type": "stream",
     "text": [
      "2\n",
      "4\n",
      "6\n",
      "8\n",
      "10\n",
      "12\n",
      "14\n",
      "16\n",
      "18\n",
      "20\n",
      "22\n",
      "24\n",
      "26\n",
      "28\n",
      "30\n",
      "32\n",
      "34\n",
      "36\n",
      "38\n",
      "40\n",
      "42\n",
      "44\n",
      "46\n",
      "48\n",
      "50\n",
      "52\n",
      "54\n",
      "56\n",
      "58\n",
      "60\n",
      "62\n",
      "64\n",
      "66\n",
      "68\n",
      "70\n",
      "72\n",
      "74\n",
      "76\n",
      "78\n",
      "80\n",
      "82\n",
      "84\n",
      "86\n",
      "88\n",
      "90\n",
      "92\n",
      "94\n",
      "96\n",
      "98\n",
      "100\n"
     ]
    }
   ],
   "source": [
    "#Imprimir los números pares del 1 al 100 utilizando un bucle for\n",
    "for n3 in range(1,101):\n",
    "    if n3 % 2 == 0:\n",
    "        print(n3)\n",
    "\n",
    "#for numero in range(2, 101, 2):\n",
    "    #print(numero)"
   ]
  },
  {
   "cell_type": "code",
   "execution_count": 8,
   "id": "0c1dcedf",
   "metadata": {},
   "outputs": [
    {
     "name": "stdout",
     "output_type": "stream",
     "text": [
      "1\n",
      "2\n",
      "3\n",
      "4\n",
      "5\n",
      "6\n",
      "7\n",
      "8\n",
      "9\n",
      "10\n",
      "11\n",
      "12\n",
      "13\n",
      "14\n",
      "15\n",
      "16\n",
      "17\n",
      "18\n",
      "19\n",
      "20\n",
      "21\n",
      "22\n",
      "23\n",
      "24\n",
      "25\n",
      "26\n",
      "27\n",
      "28\n",
      "29\n",
      "30\n",
      "31\n",
      "32\n",
      "33\n",
      "34\n",
      "35\n",
      "36\n",
      "37\n",
      "38\n",
      "39\n",
      "40\n",
      "41\n",
      "42\n",
      "43\n",
      "44\n",
      "45\n",
      "46\n",
      "47\n",
      "48\n",
      "49\n",
      "50\n"
     ]
    }
   ],
   "source": [
    "#Ejercicio: Imprimir los números primos del 1 al 50 \n",
    "for n in range(1, 51):\n",
    "#% == 0 if / 1 + n\n",
    "    if n % n == 1 and n % 1 == 1:\n",
    "        pass\n",
    "    else:\n",
    "        print(n)\n"
   ]
  },
  {
   "cell_type": "code",
   "execution_count": null,
   "id": "347268eb",
   "metadata": {},
   "outputs": [
    {
     "name": "stdout",
     "output_type": "stream",
     "text": [
      "120\n"
     ]
    }
   ],
   "source": [
    "#Calcular el factorial de un número utilizando\n",
    "import math\n",
    "print(math.factorial(5))"
   ]
  },
  {
   "cell_type": "code",
   "execution_count": 5,
   "id": "d016974c",
   "metadata": {},
   "outputs": [
    {
     "name": "stdout",
     "output_type": "stream",
     "text": [
      "la palabra secreta tiene 6 letras\n",
      "la palabra secreta empieza por p\n",
      "Agotaste tus intentos. La palabra secreta era: python\n"
     ]
    }
   ],
   "source": [
    "palabra_secreta = \"python\"\n",
    "intentos_maximos = 3\n",
    "\n",
    "for intento in range(intentos_maximos):\n",
    "    adivinanza = input(\"Intenta adivinar la palabra secreta: \")\n",
    "    if adivinanza == palabra_secreta:\n",
    "        print(\"¡Felicidades! Adivinaste la palabra secreta.\")\n",
    "        break\n",
    "    else:\n",
    "        if intento == 0: \n",
    "          print(\"la palabra secreta tiene 6 letras\")\n",
    "        elif intento == 1:\n",
    "            print(\"la palabra secreta empieza por p\")\n",
    "\n",
    "if adivinanza != palabra_secreta:\n",
    "    print(\"Agotaste tus intentos. La palabra secreta era:\", palabra_secreta)"
   ]
  },
  {
   "cell_type": "code",
   "execution_count": null,
   "id": "d121ba19",
   "metadata": {},
   "outputs": [
    {
     "name": "stdout",
     "output_type": "stream",
     "text": [
      "['miriam', 'irene', 'alba', 'pepe']\n",
      "<class 'list'>\n",
      "El nombre irene se encuentra en el índice 1\n"
     ]
    }
   ],
   "source": [
    "#Realizar una búsqueda en una lista y capturar una excepción en caso de valor no encontrado.\n",
    "#Descripción: Solicita al usuario una lista de nombres y un nombre para buscar en la lista. \n",
    "# Intenta encontrar el nombre en la lista y utiliza las sentencias \n",
    "# try y except para capturar la excepción en caso de que el nombre no sea encontrado.\n",
    "try:\n",
    "    lista_nombres = input(\"Ingresa una lista de nombres separados por espacios: \").split()\n",
    "    print(lista_nombres)\n",
    "    print(type(lista_nombres))\n",
    "    nombre_buscar = input(\"Ingresa el nombre que deseas buscar: \")\n",
    "    \n",
    "    indice = lista_nombres.index(nombre_buscar)\n",
    "    print(\"El nombre\", nombre_buscar, \"se encuentra en el índice\", indice)\n",
    "except ValueError:\n",
    "    print(\"Error: El nombre no se encuentra en la lista.\")"
   ]
  }
 ],
 "metadata": {
  "kernelspec": {
   "display_name": "base",
   "language": "python",
   "name": "python3"
  },
  "language_info": {
   "codemirror_mode": {
    "name": "ipython",
    "version": 3
   },
   "file_extension": ".py",
   "mimetype": "text/x-python",
   "name": "python",
   "nbconvert_exporter": "python",
   "pygments_lexer": "ipython3",
   "version": "3.12.7"
  }
 },
 "nbformat": 4,
 "nbformat_minor": 5
}
