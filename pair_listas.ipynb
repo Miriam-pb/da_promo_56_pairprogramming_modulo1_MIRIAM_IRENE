{
 "cells": [
  {
   "cell_type": "code",
   "execution_count": 41,
   "id": "bc7ff297",
   "metadata": {},
   "outputs": [
    {
     "name": "stdout",
     "output_type": "stream",
     "text": [
      "[2, 4, 6, 8, 2, 4, 6, 8]\n"
     ]
    }
   ],
   "source": [
    "# Dada una lista de números, duplica cada elemento en la lista. Ejemplo:\n",
    "lista = [2, 4, 6, 8]\n",
    "lista.extend(lista)\n",
    "print(lista)"
   ]
  },
  {
   "cell_type": "code",
   "execution_count": 42,
   "id": "b667bb25",
   "metadata": {},
   "outputs": [
    {
     "name": "stdout",
     "output_type": "stream",
     "text": [
      "[1, 2, 3, 4, 5, 6, 4, 5, 6]\n"
     ]
    }
   ],
   "source": [
    "#Dadas dos listas, crea una nueva lista que contenga todos los elementos de ambas listas.\n",
    "lista1 = [1, 2, 3]\n",
    "lista2 = [4, 5, 6]\n",
    "lista1.extend(lista2)\n",
    "lista3 = lista1+lista2\n",
    "print(lista3)"
   ]
  },
  {
   "cell_type": "code",
   "execution_count": 43,
   "id": "6bf2811e",
   "metadata": {},
   "outputs": [
    {
     "name": "stdout",
     "output_type": "stream",
     "text": [
      "[1, 2, 3, 4, 5, 6]\n"
     ]
    },
    {
     "data": {
      "text/plain": [
       "21"
      ]
     },
     "execution_count": 43,
     "metadata": {},
     "output_type": "execute_result"
    }
   ],
   "source": [
    "#Calcular la suma de una lista de números\n",
    "print(lista1)\n",
    "sum(lista1)"
   ]
  },
  {
   "cell_type": "code",
   "execution_count": 44,
   "id": "4ebfcd6e",
   "metadata": {},
   "outputs": [
    {
     "data": {
      "text/plain": [
       "6"
      ]
     },
     "execution_count": 44,
     "metadata": {},
     "output_type": "execute_result"
    }
   ],
   "source": [
    "#Encontrar el valor máximo en una lista\n",
    "max(lista1)"
   ]
  },
  {
   "cell_type": "code",
   "execution_count": 45,
   "id": "58703c3f",
   "metadata": {},
   "outputs": [
    {
     "data": {
      "text/plain": [
       "6"
      ]
     },
     "execution_count": 45,
     "metadata": {},
     "output_type": "execute_result"
    }
   ],
   "source": [
    "#Calcular la longitud de una lista\n",
    "len(lista1)"
   ]
  },
  {
   "cell_type": "code",
   "execution_count": 46,
   "id": "2c215572",
   "metadata": {},
   "outputs": [
    {
     "data": {
      "text/plain": [
       "3"
      ]
     },
     "execution_count": 46,
     "metadata": {},
     "output_type": "execute_result"
    }
   ],
   "source": [
    "#Encontrar el índice de un elemento en una lista\n",
    "lista1.index(4)"
   ]
  },
  {
   "cell_type": "code",
   "execution_count": 47,
   "id": "94b156fb",
   "metadata": {},
   "outputs": [
    {
     "data": {
      "text/plain": [
       "2"
      ]
     },
     "execution_count": 47,
     "metadata": {},
     "output_type": "execute_result"
    }
   ],
   "source": [
    "#Contar ocurrencias de un elemento en una lista\n",
    "lista3.count(4)"
   ]
  },
  {
   "cell_type": "code",
   "execution_count": 48,
   "id": "7481bb57",
   "metadata": {},
   "outputs": [
    {
     "name": "stdout",
     "output_type": "stream",
     "text": [
      "[3, 4, 5]\n"
     ]
    }
   ],
   "source": [
    "#Dada una lista, crea una nueva lista que contenga los elementos desde el índice 2 hasta el índice 5 (sin incluirlo)\n",
    "lista_corta =lista1[2:5]\n",
    "print(lista_corta)"
   ]
  },
  {
   "cell_type": "code",
   "execution_count": 49,
   "id": "30b9cdb2",
   "metadata": {},
   "outputs": [
    {
     "data": {
      "text/plain": [
       "5"
      ]
     },
     "execution_count": 49,
     "metadata": {},
     "output_type": "execute_result"
    }
   ],
   "source": [
    "#Obtener el último elemento de una lista\n",
    "lista_corta[-1]"
   ]
  },
  {
   "cell_type": "code",
   "execution_count": 50,
   "id": "ec71a70b",
   "metadata": {},
   "outputs": [
    {
     "name": "stdout",
     "output_type": "stream",
     "text": [
      "[5, 6]\n"
     ]
    }
   ],
   "source": [
    "#Obtener una sublista de una lista.  obtén una sublista que contenga los elementos desde el índice 1 hasta el índice 3 \n",
    "sub_lista = lista2[1:3]\n",
    "print(sub_lista)\n"
   ]
  },
  {
   "cell_type": "code",
   "execution_count": 53,
   "id": "c2b79292",
   "metadata": {},
   "outputs": [
    {
     "name": "stdout",
     "output_type": "stream",
     "text": [
      "[1, 2, 3, 4, 5, 6, 4, 5, 6]\n"
     ]
    }
   ],
   "source": [
    "print(lista3)"
   ]
  },
  {
   "cell_type": "code",
   "execution_count": null,
   "id": "337c9ed8",
   "metadata": {},
   "outputs": [],
   "source": [
    "lista3.replace"
   ]
  },
  {
   "cell_type": "code",
   "execution_count": null,
   "id": "4443a0de",
   "metadata": {},
   "outputs": [
    {
     "ename": "AttributeError",
     "evalue": "'list' object has no attribute 'replace'",
     "output_type": "error",
     "traceback": [
      "\u001b[1;31m---------------------------------------------------------------------------\u001b[0m",
      "\u001b[1;31mAttributeError\u001b[0m                            Traceback (most recent call last)",
      "Cell \u001b[1;32mIn[28], line 2\u001b[0m\n\u001b[0;32m      1\u001b[0m \u001b[38;5;66;03m#Reemplazar un elemento en una lista\u001b[39;00m\n\u001b[1;32m----> 2\u001b[0m lista_cambiada \u001b[38;5;241m=\u001b[39m lista3\u001b[38;5;241m.\u001b[39mreplace(\u001b[38;5;124m\"\u001b[39m\u001b[38;5;124m4\u001b[39m\u001b[38;5;124m\"\u001b[39m, \u001b[38;5;124m\"\u001b[39m\u001b[38;5;124m10\u001b[39m\u001b[38;5;124m\"\u001b[39m)\n\u001b[0;32m      3\u001b[0m \u001b[38;5;28mprint\u001b[39m(lista_cambiada)\n",
      "\u001b[1;31mAttributeError\u001b[0m: 'list' object has no attribute 'replace'"
     ]
    }
   ],
   "source": [
    "#Reemplazar un elemento en una lista\n",
    "lista3 = lista3.replace(4, 10)\n",
    "print(lista_cambiada)"
   ]
  },
  {
   "cell_type": "code",
   "execution_count": 54,
   "id": "e11d0fdb",
   "metadata": {},
   "outputs": [],
   "source": [
    "lista_texto = [\"hola\", \"somos\", \"Miriam\", \"e\", \"Irene\"]"
   ]
  },
  {
   "cell_type": "code",
   "execution_count": 32,
   "id": "7a4e7fd4",
   "metadata": {},
   "outputs": [
    {
     "name": "stdout",
     "output_type": "stream",
     "text": [
      "['hola', 'somos', 'Miriam', 'e', 'Irene']\n"
     ]
    }
   ],
   "source": [
    "print(lista_texto)"
   ]
  },
  {
   "cell_type": "code",
   "execution_count": 33,
   "id": "52dbc5a5",
   "metadata": {},
   "outputs": [
    {
     "name": "stdout",
     "output_type": "stream",
     "text": [
      "<class 'list'>\n"
     ]
    }
   ],
   "source": [
    "print(type(lista_texto))"
   ]
  },
  {
   "cell_type": "code",
   "execution_count": null,
   "id": "111583ce",
   "metadata": {},
   "outputs": [
    {
     "name": "stdout",
     "output_type": "stream",
     "text": [
      "[1, 2, 22, 4, 5, 6, 4, 5, 6]\n"
     ]
    }
   ],
   "source": [
    "lista3[2]=22\n",
    "print(lista3)"
   ]
  },
  {
   "cell_type": "code",
   "execution_count": 1,
   "id": "b64a92f0",
   "metadata": {},
   "outputs": [
    {
     "name": "stdout",
     "output_type": "stream",
     "text": [
      "[11, 22, 33, 44, 55, 66, 77]\n"
     ]
    }
   ],
   "source": [
    "#Obtener una lista inversa\n",
    "lista_nueva = [11,22,33,44,55,66,77]\n",
    "print(lista_nueva)\n"
   ]
  },
  {
   "cell_type": "code",
   "execution_count": 67,
   "id": "c2acebe6",
   "metadata": {},
   "outputs": [],
   "source": [
    "lista_nueva.reverse()"
   ]
  },
  {
   "cell_type": "code",
   "execution_count": 68,
   "id": "36d28997",
   "metadata": {},
   "outputs": [
    {
     "name": "stdout",
     "output_type": "stream",
     "text": [
      "[77, 66, 55, 44, 33, 22, 11]\n"
     ]
    }
   ],
   "source": [
    "print(lista_nueva)"
   ]
  },
  {
   "cell_type": "code",
   "execution_count": 4,
   "id": "1cd24857",
   "metadata": {},
   "outputs": [
    {
     "name": "stdout",
     "output_type": "stream",
     "text": [
      "[11, 22, 33, 44, 55, 66, 77]\n"
     ]
    }
   ],
   "source": [
    "#Ordenar una lista en orden ascendente\n",
    "lista_nueva.sort()\n",
    "print(lista_nueva)"
   ]
  },
  {
   "cell_type": "code",
   "execution_count": 11,
   "id": "d3be1b57",
   "metadata": {},
   "outputs": [
    {
     "name": "stdout",
     "output_type": "stream",
     "text": [
      "[77, 66, 55, 44, 33, 22, 11]\n"
     ]
    }
   ],
   "source": [
    "lista_nueva.sort(reverse=True)\n",
    "print(lista_nueva)"
   ]
  },
  {
   "cell_type": "code",
   "execution_count": 13,
   "id": "a3c9d4b1",
   "metadata": {},
   "outputs": [
    {
     "data": {
      "text/plain": [
       "[77, 55, 33, 11]"
      ]
     },
     "execution_count": 13,
     "metadata": {},
     "output_type": "execute_result"
    }
   ],
   "source": [
    "#Obtener elementos pares de una lista\n",
    "lista_nueva[::2]"
   ]
  },
  {
   "cell_type": "code",
   "execution_count": 14,
   "id": "6e5f73f3",
   "metadata": {},
   "outputs": [],
   "source": [
    "lista_larga = [14, 76, 59, 86, 30, 72, 465, 93, 564, 23, 45, 87, 987, 45, 66, 21, 234]"
   ]
  },
  {
   "cell_type": "code",
   "execution_count": 16,
   "id": "b44d8f69",
   "metadata": {},
   "outputs": [
    {
     "name": "stdout",
     "output_type": "stream",
     "text": [
      "[14, 86, 465, 23, 987, 21]\n"
     ]
    }
   ],
   "source": [
    "#Dada una lista, obtén una sublista que contenga los elementos saltando de 3 en 3.\n",
    "sub_lista = lista_larga [::3]\n",
    "print(sub_lista)"
   ]
  },
  {
   "cell_type": "code",
   "execution_count": 28,
   "id": "8950a7ec",
   "metadata": {},
   "outputs": [
    {
     "name": "stdout",
     "output_type": "stream",
     "text": [
      "[987, 564, 465, 234, 93, 87, 86, 76, 72, 66, 59, 45, 45, 30, 23, 21, 14]\n"
     ]
    },
    {
     "data": {
      "text/plain": [
       "564"
      ]
     },
     "execution_count": 28,
     "metadata": {},
     "output_type": "execute_result"
    }
   ],
   "source": [
    "#Dada una lista de números, encuentra el segundo valor máximo.\n",
    "lista_larga.sort(reverse=True)\n",
    "print(lista_larga)\n",
    "lista_larga[1]"
   ]
  }
 ],
 "metadata": {
  "kernelspec": {
   "display_name": "base",
   "language": "python",
   "name": "python3"
  },
  "language_info": {
   "codemirror_mode": {
    "name": "ipython",
    "version": 3
   },
   "file_extension": ".py",
   "mimetype": "text/x-python",
   "name": "python",
   "nbconvert_exporter": "python",
   "pygments_lexer": "ipython3",
   "version": "3.12.7"
  }
 },
 "nbformat": 4,
 "nbformat_minor": 5
}
