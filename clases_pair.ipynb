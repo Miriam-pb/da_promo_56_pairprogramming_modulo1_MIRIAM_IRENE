{
 "cells": [
  {
   "cell_type": "markdown",
   "id": "be4e0db6",
   "metadata": {},
   "source": [
    "La clase Empleados permite gestionar información relacionada con los empleados de una empresa, con las siguientes características:\n",
    "\n",
    "Debes crear una clase llamada \"Empleados\" que tenga los siguientes atributos: nombre, apellidos, edad, posicion, año , vacaciones(cantidad de días de vacaciones que le quedan al empleado) y herramientas.\n",
    "\n",
    "El constructor __init__ debe recibir estos atributos como parámetros y asignarlos a los respectivos atributos de la clase.\n",
    "\n",
    "Los atributos representan la información personal y profesional de un empleado, como su nombre completo, edad, posición en la empresa, año de ingreso, días de vacaciones disponibles y una lista de herramientas que el empleado sabe utilizar."
   ]
  },
  {
   "cell_type": "code",
   "execution_count": null,
   "id": "51db7259",
   "metadata": {},
   "outputs": [],
   "source": [
    "from datetime import date"
   ]
  },
  {
   "cell_type": "code",
   "execution_count": 46,
   "id": "4f403a14",
   "metadata": {},
   "outputs": [],
   "source": [
    "\n",
    "class Empleados:\n",
    "\n",
    "    def __init__(self, nombre, apellidos, edad, posicion, anio, vacaciones, herramientas):\n",
    "        self.nombre = nombre\n",
    "        self.apellidos =apellidos\n",
    "        self.edad = edad\n",
    "        self.posicion = posicion\n",
    "        self.anio = anio\n",
    "        self.vacaciones = vacaciones\n",
    "        self.herramientas = herramientas\n",
    "\n",
    "    def descripcion(self):\n",
    "        print(f'el empleado {self.nombre} ocupa el puesto {self.posicion} entro en la empresa el {self.anio} y le quedan {self.vacaciones} dias de vacaciones')\n",
    "\n",
    "    def cambio_posicion(self):\n",
    "        for herramienta in self.herramientas:\n",
    "\n",
    "            if herramienta != 'python':\n",
    "\n",
    "                if herramienta == 'excel':\n",
    "                    print('deberias aparender python')\n",
    "                \n",
    "\n",
    "            else:\n",
    "                print('enhorabuena sabes python')\n",
    "                break                                  # faltaria añadir que pasa si conoce otras herramientas que no sean python ni excel\n",
    "\n",
    "\n",
    "    # def calcular_antiguedad(self):\n",
    "\n",
    "        \n",
    "    #     hoy = date(2025)\n",
    "    #     tiempo_en_la_empresa = hoy - self.anio\n",
    "    #     print(f'{self.nombre} lleva {tiempo_en_la_empresa}')\n",
    "\n",
    "    def solicitar_aumento_vacaciones(self):\n",
    "        dias_solicitados = int(input('solicitud de dias de vacaciones'))\n",
    "        if dias_solicitados > 0:\n",
    "            self.vacaciones += dias_solicitados\n",
    "            \n",
    "            return f'tu solicitud ha sido aprobada has pedido {dias_solicitados}, te quedan {self.vacaciones}'\n",
    "        else:\n",
    "            print('la solicitud debe ser un número positivo')\n",
    "\n",
    "\n",
    "\n",
    "           "
   ]
  },
  {
   "cell_type": "code",
   "execution_count": 39,
   "id": "b6af2528",
   "metadata": {},
   "outputs": [
    {
     "name": "stdout",
     "output_type": "stream",
     "text": [
      "el empleado miriam ocupa el puesto data analyst entro en la empresa el 2024 y le quedan 0 dias de vacaciones\n"
     ]
    }
   ],
   "source": [
    "empleado = Empleados('miriam','perez',25, 'data analyst', 2024, 0, ['vscode'])\n",
    "empleado.descripcion()"
   ]
  },
  {
   "cell_type": "code",
   "execution_count": 26,
   "id": "270bee97",
   "metadata": {},
   "outputs": [
    {
     "name": "stdout",
     "output_type": "stream",
     "text": [
      "2025-06-11\n"
     ]
    }
   ],
   "source": [
    "\n",
    "from datetime import date\n",
    "anio = date(2025, 6, 11)  # Crea una fecha: año, mes, día\n",
    "print(anio)  # Salida: 2023-10-15"
   ]
  },
  {
   "cell_type": "code",
   "execution_count": 47,
   "id": "c7a52f9e",
   "metadata": {},
   "outputs": [
    {
     "data": {
      "text/plain": [
       "50"
      ]
     },
     "execution_count": 47,
     "metadata": {},
     "output_type": "execute_result"
    }
   ],
   "source": [
    "empleado.solicitar_aumento_vacaciones()"
   ]
  },
  {
   "cell_type": "code",
   "execution_count": 34,
   "id": "76a6bbee",
   "metadata": {},
   "outputs": [
    {
     "ename": "AttributeError",
     "evalue": "module 'datetime' has no attribute 'now'",
     "output_type": "error",
     "traceback": [
      "\u001b[1;31m---------------------------------------------------------------------------\u001b[0m",
      "\u001b[1;31mAttributeError\u001b[0m                            Traceback (most recent call last)",
      "Cell \u001b[1;32mIn[34], line 1\u001b[0m\n\u001b[1;32m----> 1\u001b[0m datetime\u001b[38;5;241m.\u001b[39mnow\u001b[38;5;241m.\u001b[39myear\n",
      "\u001b[1;31mAttributeError\u001b[0m: module 'datetime' has no attribute 'now'"
     ]
    }
   ],
   "source": [
    "datetime.now.year"
   ]
  },
  {
   "cell_type": "code",
   "execution_count": 32,
   "id": "2eb557cc",
   "metadata": {},
   "outputs": [],
   "source": [
    "import datetime"
   ]
  },
  {
   "cell_type": "code",
   "execution_count": null,
   "id": "61d62cca",
   "metadata": {},
   "outputs": [],
   "source": [
    "dias_solicitados = int(input('solicitud de dias de vacaciones'))\n",
    "if dias_solicitados > 0:\n",
    "    self.vacaciones += dias_solicitados\n",
    "    return f'tu solicitud ha sido aprobada has pedido {dias_solicitados}, te quedan {self.vacaciones}'\n",
    "else:\n",
    "     print('la solicitud debe ser un número positivo')\n"
   ]
  }
 ],
 "metadata": {
  "kernelspec": {
   "display_name": "base",
   "language": "python",
   "name": "python3"
  },
  "language_info": {
   "codemirror_mode": {
    "name": "ipython",
    "version": 3
   },
   "file_extension": ".py",
   "mimetype": "text/x-python",
   "name": "python",
   "nbconvert_exporter": "python",
   "pygments_lexer": "ipython3",
   "version": "3.12.7"
  }
 },
 "nbformat": 4,
 "nbformat_minor": 5
}
