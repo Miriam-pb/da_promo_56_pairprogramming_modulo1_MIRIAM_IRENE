{
 "cells": [
  {
   "cell_type": "code",
   "execution_count": 4,
   "id": "a5172a24",
   "metadata": {},
   "outputs": [
    {
     "name": "stdout",
     "output_type": "stream",
     "text": [
      "-45 es negativo\n"
     ]
    }
   ],
   "source": [
    "#Verificar si un número es positivo, negativo o cero\n",
    "n = -45\n",
    "if n > 0:\n",
    "    print(n, \"es positivo\")\n",
    "elif n == 0:\n",
    "    print(n, \"es igual a 0\")\n",
    "else:\n",
    "    print(n, \"es negativo\")\n",
    "\n"
   ]
  },
  {
   "cell_type": "code",
   "execution_count": 11,
   "id": "eaa74f46",
   "metadata": {},
   "outputs": [
    {
     "name": "stdout",
     "output_type": "stream",
     "text": [
      "-97 es impar\n"
     ]
    }
   ],
   "source": [
    "#Verificar si un número es par o impar\n",
    "n1 = -97\n",
    "if n1 % 2 ==0:\n",
    "    print(n1, \"es par\")\n",
    "else:\n",
    "    print(n1, \"es impar\") \n"
   ]
  },
  {
   "cell_type": "code",
   "execution_count": 29,
   "id": "d84c9942",
   "metadata": {},
   "outputs": [
    {
     "name": "stdout",
     "output_type": "stream",
     "text": [
      "has aprobado!\n"
     ]
    }
   ],
   "source": [
    "#Verificar si un estudiante aprobó o suspendió un examen\n",
    "#PROBEMOS A CREAR UN DIC/y un input \"COMPRUEBA SI HAS APROBADO\"\n",
    "nota_examen = 78\n",
    "if nota_examen >= 60:\n",
    "    print(\"has aprobado!\")\n",
    "else:\n",
    "    print(\"has suspendido\")\n",
    "\n",
    "\n"
   ]
  },
  {
   "cell_type": "code",
   "execution_count": 15,
   "metadata": {},
   "outputs": [
    {
     "data": {
      "text/plain": [
       "3"
      ]
     },
     "execution_count": 15,
     "metadata": {},
     "output_type": "execute_result"
    }
   ],
   "source": [
    "#Calcular el máximo entre dos números: aquí hemos probado a repasar las listas\n",
    "calculo = (1,2,3)\n",
    "max(calculo)\n"
   ]
  },
  {
   "cell_type": "code",
   "execution_count": 18,
   "id": "9d7507aa",
   "metadata": {},
   "outputs": [
    {
     "name": "stdout",
     "output_type": "stream",
     "text": [
      "78 es mayor que 9\n"
     ]
    }
   ],
   "source": [
    "#Calcular el máximo entre dos números\n",
    "n2 = 78\n",
    "n3 = 9\n",
    "if n2 > n3:\n",
    "    print(n2, \"es mayor que\", n3)\n",
    "elif n2 == n3:\n",
    "    print( n2, \"y\", n3, \"son iguales\")\n",
    "else:\n",
    "    print(n2, \"es menor que\", n3)"
   ]
  },
  {
   "cell_type": "code",
   "execution_count": 1,
   "id": "376b47a1",
   "metadata": {},
   "outputs": [
    {
     "name": "stdout",
     "output_type": "stream",
     "text": [
      "El máximo es: 15\n"
     ]
    }
   ],
   "source": [
    "numero1 = 10\n",
    "numero2 = 15\n",
    "\n",
    "if numero1 > numero2:\n",
    "    maximo = numero1\n",
    "else:\n",
    "    maximo = numero2\n",
    "\n",
    "print(\"El máximo es:\", maximo)"
   ]
  },
  {
   "cell_type": "code",
   "execution_count": 20,
   "id": "a024f3f5",
   "metadata": {},
   "outputs": [
    {
     "name": "stdout",
     "output_type": "stream",
     "text": [
      "a es una vocal\n"
     ]
    }
   ],
   "source": [
    "#Verificar si una letra es una vocal o una consonante\n",
    "vocales = [\"a\",\"e\",\"i\",\"o\",\"u\"]\n",
    "letra = \"a\"\n",
    "if letra in vocales:\n",
    "    print(letra, \"es una vocal\")\n",
    "else:\n",
    "    print(letra, \"es una consonante\")"
   ]
  },
  {
   "cell_type": "code",
   "execution_count": 4,
   "id": "97eafa41",
   "metadata": {},
   "outputs": [
    {
     "name": "stdout",
     "output_type": "stream",
     "text": [
      "tienes un 10% de descuento(12.0) , tu nuevo precio es: 108.0\n"
     ]
    }
   ],
   "source": [
    "#Calcular el descuento en una compra según el monto total\n",
    "#crear una variables con el total\n",
    "#si el total el mayor o igual a 100, se aplica descuento\n",
    "#probamos a calcular cuál es el precio con el descuento\n",
    "#si el total es menor que 100, no se aplica descuento\n",
    "precio = 120\n",
    "if precio >= 100:\n",
    "    descuento = precio*0.1\n",
    "    precio_descuento = precio - descuento\n",
    "    print(f\"tienes un 10% de descuento({descuento}) , tu nuevo precio es: {precio_descuento}\")\n",
    "else:\n",
    "    print(\"no hay descuentos aplicables\")"
   ]
  },
  {
   "cell_type": "code",
   "execution_count": null,
   "id": "09f2f1b6",
   "metadata": {},
   "outputs": [
    {
     "name": "stdout",
     "output_type": "stream",
     "text": [
      "2024 no es bisiesto\n"
     ]
    }
   ],
   "source": [
    "#Verificar si un año es bisiesto o no\n",
    "#crear variabe de un año\n",
    "#si es biesto tiene que ser divisible entre 4 (si no lo es se descarta como bieesto)\n",
    "#si es divisible entre 4 pero no entre 100\n",
    "#pero si es divisble entre 4, sí tiene que ser entre 400, pero no entre 100\n",
    "\n",
    "año = 2024\n",
    "if año % 4 == 0:\n",
    "    if año % 100 != 0 pero 400 == 0:\n",
    "        print(año, \"es bisiesto\") \n",
    "    elif año % 100 and not 400 == 0:\n",
    "        print(año, \"no es bisiesto\")"
   ]
  },
  {
   "cell_type": "code",
   "execution_count": 8,
   "metadata": {},
   "outputs": [
    {
     "name": "stdout",
     "output_type": "stream",
     "text": [
      "eres adulto mayor\n"
     ]
    }
   ],
   "source": [
    "#Asignar una categoría a una edad\n",
    "edad = 100\n",
    "if edad < 18:\n",
    "    categoria = 'menor de edad'\n",
    "elif edad > 64:\n",
    "    categoria = \"eres adulto mayor\"\n",
    "else: \n",
    "    categoria = \"eres adulto\"\n",
    "print(categoria)"
   ]
  },
  {
   "cell_type": "code",
   "execution_count": 9,
   "id": "ba5578a3",
   "metadata": {},
   "outputs": [
    {
     "name": "stdout",
     "output_type": "stream",
     "text": [
      "es un triangulo rectángulo\n"
     ]
    }
   ],
   "source": [
    "#teorema de pitágoras: a² + b² = c²\n",
    "#Verificar si tres números forman un triángulo rectángulo\n",
    "#SÍ es triangulo rectángulo si la formula se cumple / NO es si no se cumple\n",
    "a = 3\n",
    "b = 4\n",
    "c = 5\n",
    "if c**2 == a**2 + b**2:\n",
    "    print(\"es un triangulo rectángulo\")\n",
    "else:\n",
    "    print(\"no es un triángulo rectángulo\")\n"
   ]
  },
  {
   "cell_type": "code",
   "execution_count": null,
   "id": "3c1b8478",
   "metadata": {},
   "outputs": [],
   "source": [
    "# correccion de teorema de pitagoras\n",
    "if lado1**2 + lado2**2 == lado3**2 or lado1**2 + lado3**2 == lado2**2 or lado2**2 + lado3**2 == lado1**2:\n",
    "    print(\"Forman un triángulo rectángulo\")\n",
    "else:\n",
    "    print(\"No forman un triángulo rectángulo\")"
   ]
  },
  {
   "cell_type": "code",
   "execution_count": 23,
   "id": "29fd63bc",
   "metadata": {},
   "outputs": [
    {
     "name": "stdout",
     "output_type": "stream",
     "text": [
      "D\n"
     ]
    }
   ],
   "source": [
    "#Asignar una calificación a una puntuación\n",
    "#mayor o igual a 90, la calificación es \"A\"\n",
    "#mayor o igual a 80, la calificación es \"B\"\n",
    "# mayor o igual a 70, la calificación es \"C\"\n",
    "#mayor o igual a 60, la calificación es \"D\"\n",
    "#de lo contrario, la calificación es \"F\"\n",
    "\n",
    "calificación = int(input('que nota has sacado en el examen'))\n",
    "if calificación >= 90:\n",
    "    print(\"calificacion: A\")\n",
    "elif calificación >= 80:\n",
    "    print(\"B\")\n",
    "elif calificación >= 70:\n",
    "    print(\"C\")\n",
    "elif calificación >= 60:\n",
    "    print(\"D\")\n",
    "else:\n",
    "    print(\"F\")"
   ]
  },
  {
   "cell_type": "code",
   "execution_count": null,
   "id": "e2fbaaba",
   "metadata": {},
   "outputs": [],
   "source": []
  },
  {
   "cell_type": "code",
   "execution_count": null,
   "id": "117d30ca",
   "metadata": {},
   "outputs": [],
   "source": []
  },
  {
   "cell_type": "code",
   "execution_count": null,
   "id": "9abe7335",
   "metadata": {},
   "outputs": [],
   "source": []
  },
  {
   "cell_type": "code",
   "execution_count": null,
   "id": "afc402dc",
   "metadata": {},
   "outputs": [],
   "source": []
  },
  {
   "cell_type": "code",
   "execution_count": null,
   "metadata": {},
   "outputs": [],
   "source": []
  }
 ],
 "metadata": {
  "kernelspec": {
   "display_name": "base",
   "language": "python",
   "name": "python3"
  },
  "language_info": {
   "codemirror_mode": {
    "name": "ipython",
    "version": 3
   },
   "file_extension": ".py",
   "mimetype": "text/x-python",
   "name": "python",
   "nbconvert_exporter": "python",
   "pygments_lexer": "ipython3",
   "version": "3.12.7"
  }
 },
 "nbformat": 4,
 "nbformat_minor": 5
}
