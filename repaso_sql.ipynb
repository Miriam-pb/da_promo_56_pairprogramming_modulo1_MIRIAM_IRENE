{
 "cells": [
  {
   "cell_type": "code",
   "execution_count": 2,
   "id": "be1746ca",
   "metadata": {},
   "outputs": [
    {
     "name": "stdout",
     "output_type": "stream",
     "text": [
      "Collecting mysql-connector-pythonNote: you may need to restart the kernel to use updated packages.\n",
      "\n",
      "  Downloading mysql_connector_python-9.3.0-cp312-cp312-win_amd64.whl.metadata (7.7 kB)\n",
      "Downloading mysql_connector_python-9.3.0-cp312-cp312-win_amd64.whl (16.4 MB)\n",
      "   ---------------------------------------- 0.0/16.4 MB ? eta -:--:--\n",
      "   ----- ---------------------------------- 2.1/16.4 MB 11.7 MB/s eta 0:00:02\n",
      "   ---------- ----------------------------- 4.5/16.4 MB 11.2 MB/s eta 0:00:02\n",
      "   ---------------- ----------------------- 6.6/16.4 MB 11.2 MB/s eta 0:00:01\n",
      "   --------------------- ------------------ 8.9/16.4 MB 11.1 MB/s eta 0:00:01\n",
      "   -------------------------- ------------- 11.0/16.4 MB 10.7 MB/s eta 0:00:01\n",
      "   -------------------------------- ------- 13.4/16.4 MB 11.0 MB/s eta 0:00:01\n",
      "   -------------------------------------- - 15.7/16.4 MB 11.1 MB/s eta 0:00:01\n",
      "   ---------------------------------------- 16.4/16.4 MB 10.7 MB/s eta 0:00:00\n",
      "Installing collected packages: mysql-connector-python\n",
      "Successfully installed mysql-connector-python-9.3.0\n"
     ]
    }
   ],
   "source": [
    "pip install mysql-connector-python"
   ]
  },
  {
   "cell_type": "code",
   "execution_count": 3,
   "id": "a2ec3a71",
   "metadata": {},
   "outputs": [],
   "source": [
    "import mysql.connector\n",
    "from mysql.connector import errorcode\n",
    "\n",
    "import pandas as pd"
   ]
  },
  {
   "cell_type": "code",
   "execution_count": 4,
   "id": "ecd964fc",
   "metadata": {},
   "outputs": [
    {
     "name": "stdout",
     "output_type": "stream",
     "text": [
      "<mysql.connector.connection_cext.CMySQLConnection object at 0x00000221793DCD10>\n"
     ]
    }
   ],
   "source": [
    "cnx = mysql.connector.connect(user='root', password='AlumnaAdalab',\n",
    "                              host='127.0.0.1',\n",
    "                              database='instituto')\n",
    "\n",
    "print(cnx)\n",
    "cnx.close()"
   ]
  },
  {
   "cell_type": "code",
   "execution_count": 14,
   "id": "5a5644d8",
   "metadata": {},
   "outputs": [
    {
     "name": "stdout",
     "output_type": "stream",
     "text": [
      "ok\n"
     ]
    }
   ],
   "source": [
    "try:\n",
    "  cnx = mysql.connector.connect(user='root', password='AlumnaAdalab',\n",
    "                              host='127.0.0.1',\n",
    "                              database='instituto')\n",
    "  print(\"ok\")\n",
    "# en caso de que no lo consigas por que hay algún error entonces ...\n",
    "except mysql.connector.Error as err:\n",
    "\n",
    "  # si es un error con la contraseña devuelveme un mensaje de acceso denegado ya que tenemos problemas con la contraseña\n",
    "  if err.errno == errorcode.ER_ACCESS_DENIED_ERROR:\n",
    "    print(\"Something is wrong with your user name or password\")\n",
    "  \n",
    "  # si el error no tiene que ver con la contraseña, puede ser porque la base de datos no exista, devuelveme un mensaje de que la base de datos no existe\n",
    "  elif err.errno == errorcode.ER_BAD_DB_ERROR:\n",
    "    print(\"Database does not exist\")\n",
    "  \n",
    "  # si no es por ninguno de los errores anteriores, printeame cual es el error que estoy teniendo en mi conexión\n",
    "  else:\n",
    "    print(err)"
   ]
  },
  {
   "cell_type": "code",
   "execution_count": 15,
   "id": "2e07fba2",
   "metadata": {},
   "outputs": [
    {
     "name": "stdout",
     "output_type": "stream",
     "text": [
      "[('12345678A', 'Juan Pérez', 'Calle Mayor, 10', 600123456), ('45678912C', 'Carlos Gómez', 'Plaza Luna, 7', 600789123), ('87654321B', 'María López', 'Avenida Sol, 45', 600654321)]\n"
     ]
    }
   ],
   "source": [
    "mycursor = cnx.cursor()\n",
    "\n",
    "# realizamos nuestra query\n",
    "mycursor.execute(\"SELECT * FROM profesores\")\n",
    "\n",
    "# le decimos a Python que nos devuelva todos los resultados de la query usando el método fetchall\n",
    "myresult = mycursor.fetchall()\n",
    "print(myresult)"
   ]
  },
  {
   "cell_type": "code",
   "execution_count": 16,
   "id": "97b7c8fd",
   "metadata": {},
   "outputs": [
    {
     "name": "stdout",
     "output_type": "stream",
     "text": [
      "[('Juan Pérez', 600123456), ('Carlos Gómez', 600789123), ('María López', 600654321)]\n"
     ]
    }
   ],
   "source": [
    "\n",
    "mycursor.execute(\"SELECT nombre, tlf FROM profesores\")\n",
    "\n",
    "myresult = mycursor.fetchall()\n",
    "print(myresult)"
   ]
  },
  {
   "cell_type": "code",
   "execution_count": 17,
   "id": "e96645ea",
   "metadata": {},
   "outputs": [
    {
     "name": "stdout",
     "output_type": "stream",
     "text": [
      "[('Matemáticas',), ('Física',), ('Química',), ('Biología',), ('Historia',)]\n"
     ]
    }
   ],
   "source": [
    "mycursor.execute(\"SELECT nombre_del_modulo FROM modulos\")\n",
    "\n",
    "myresult = mycursor.fetchall()\n",
    "print(myresult)"
   ]
  },
  {
   "cell_type": "code",
   "execution_count": 18,
   "id": "b38216c1",
   "metadata": {},
   "outputs": [
    {
     "name": "stdout",
     "output_type": "stream",
     "text": [
      "[('Ana Martínez', 'Martínez'), ('Luis Fernández', 'Fernández'), ('Clara Ruiz', 'Ruiz'), ('Pedro Sánchez', 'Sánchez'), ('Lucía Torres', 'Torres')]\n"
     ]
    }
   ],
   "source": [
    "mycursor.execute(\"SELECT Nombre, Apellidos FROM alumnas\")\n",
    "\n",
    "myresult = mycursor.fetchall()\n",
    "print(myresult)"
   ]
  },
  {
   "cell_type": "code",
   "execution_count": 19,
   "id": "a27e562f",
   "metadata": {},
   "outputs": [
    {
     "name": "stdout",
     "output_type": "stream",
     "text": [
      "                0          1\n",
      "0    Ana Martínez   Martínez\n",
      "1  Luis Fernández  Fernández\n",
      "2      Clara Ruiz       Ruiz\n",
      "3   Pedro Sánchez    Sánchez\n",
      "4    Lucía Torres     Torres\n"
     ]
    }
   ],
   "source": [
    "mycursor.execute(\"SELECT Nombre, Apellidos FROM alumnas\")\n",
    "\n",
    "myresult = pd.DataFrame(mycursor.fetchall())\n",
    "print(myresult)"
   ]
  },
  {
   "cell_type": "code",
   "execution_count": 22,
   "id": "6549e379",
   "metadata": {},
   "outputs": [
    {
     "ename": "InternalError",
     "evalue": "Unread result found",
     "output_type": "error",
     "traceback": [
      "\u001b[1;31m---------------------------------------------------------------------------\u001b[0m",
      "\u001b[1;31mInternalError\u001b[0m                             Traceback (most recent call last)",
      "Cell \u001b[1;32mIn[22], line 1\u001b[0m\n\u001b[1;32m----> 1\u001b[0m mycursor\u001b[38;5;241m.\u001b[39mexecute(\u001b[38;5;124m\"\"\"\u001b[39m\u001b[38;5;124mSELECT nombre FROM profesores\u001b[39m\n\u001b[0;32m      2\u001b[0m \u001b[38;5;124m                    WHERE dni 12345678A\u001b[39m\u001b[38;5;124m\"\"\"\u001b[39m)\n\u001b[0;32m      4\u001b[0m myresult \u001b[38;5;241m=\u001b[39m mycursor\u001b[38;5;241m.\u001b[39mfetchone()\n\u001b[0;32m      5\u001b[0m \u001b[38;5;28mprint\u001b[39m(myresult)\n",
      "File \u001b[1;32mc:\\Users\\irene\\anaconda3\\Lib\\site-packages\\mysql\\connector\\cursor_cext.py:315\u001b[0m, in \u001b[0;36mCMySQLCursor.execute\u001b[1;34m(self, operation, params, map_results)\u001b[0m\n\u001b[0;32m    312\u001b[0m \u001b[38;5;28;01mexcept\u001b[39;00m (ProgrammingError, \u001b[38;5;167;01mReferenceError\u001b[39;00m) \u001b[38;5;28;01mas\u001b[39;00m err:\n\u001b[0;32m    313\u001b[0m     \u001b[38;5;28;01mraise\u001b[39;00m ProgrammingError(\u001b[38;5;124m\"\u001b[39m\u001b[38;5;124mCursor is not connected\u001b[39m\u001b[38;5;124m\"\u001b[39m, \u001b[38;5;241m2055\u001b[39m) \u001b[38;5;28;01mfrom\u001b[39;00m \u001b[38;5;21;01merr\u001b[39;00m\n\u001b[1;32m--> 315\u001b[0m \u001b[38;5;28mself\u001b[39m\u001b[38;5;241m.\u001b[39m_connection\u001b[38;5;241m.\u001b[39mhandle_unread_result()\n\u001b[0;32m    316\u001b[0m \u001b[38;5;28mself\u001b[39m\u001b[38;5;241m.\u001b[39mreset()\n\u001b[0;32m    318\u001b[0m stmt \u001b[38;5;241m=\u001b[39m \u001b[38;5;124mb\u001b[39m\u001b[38;5;124m\"\u001b[39m\u001b[38;5;124m\"\u001b[39m\n",
      "File \u001b[1;32mc:\\Users\\irene\\anaconda3\\Lib\\site-packages\\mysql\\connector\\connection_cext.py:1121\u001b[0m, in \u001b[0;36mCMySQLConnection.handle_unread_result\u001b[1;34m(self, prepared)\u001b[0m\n\u001b[0;32m   1119\u001b[0m     \u001b[38;5;28mself\u001b[39m\u001b[38;5;241m.\u001b[39mconsume_results()\n\u001b[0;32m   1120\u001b[0m \u001b[38;5;28;01melif\u001b[39;00m unread_result:\n\u001b[1;32m-> 1121\u001b[0m     \u001b[38;5;28;01mraise\u001b[39;00m InternalError(\u001b[38;5;124m\"\u001b[39m\u001b[38;5;124mUnread result found\u001b[39m\u001b[38;5;124m\"\u001b[39m)\n",
      "\u001b[1;31mInternalError\u001b[0m: Unread result found"
     ]
    }
   ],
   "source": [
    "mycursor.execute(\"\"\"SELECT nombre FROM profesores\n",
    "                    WHERE dni 12345678A\"\"\")\n",
    "\n",
    "myresult = mycursor.fetchone()\n",
    "print(myresult)"
   ]
  },
  {
   "cell_type": "code",
   "execution_count": 23,
   "id": "873c0304",
   "metadata": {},
   "outputs": [],
   "source": [
    "sql_seleccion_profe = \"\"\"SELECT nombre FROM profesores\n",
    "                    WHERE dni 12345678A\"\"\"\n",
    "\n",
    "\n"
   ]
  },
  {
   "cell_type": "code",
   "execution_count": 24,
   "id": "7ee916a1",
   "metadata": {},
   "outputs": [
    {
     "ename": "AttributeError",
     "evalue": "'str' object has no attribute 'execute'",
     "output_type": "error",
     "traceback": [
      "\u001b[1;31m---------------------------------------------------------------------------\u001b[0m",
      "\u001b[1;31mAttributeError\u001b[0m                            Traceback (most recent call last)",
      "Cell \u001b[1;32mIn[24], line 1\u001b[0m\n\u001b[1;32m----> 1\u001b[0m sql_seleccion_profe\u001b[38;5;241m.\u001b[39mexecute()\n",
      "\u001b[1;31mAttributeError\u001b[0m: 'str' object has no attribute 'execute'"
     ]
    }
   ],
   "source": [
    "sql_seleccion_profe.execute()"
   ]
  },
  {
   "cell_type": "code",
   "execution_count": 25,
   "id": "24e1bdba",
   "metadata": {},
   "outputs": [
    {
     "ename": "NameError",
     "evalue": "name 'conexion' is not defined",
     "output_type": "error",
     "traceback": [
      "\u001b[1;31m---------------------------------------------------------------------------\u001b[0m",
      "\u001b[1;31mNameError\u001b[0m                                 Traceback (most recent call last)",
      "Cell \u001b[1;32mIn[25], line 1\u001b[0m\n\u001b[1;32m----> 1\u001b[0m cursor \u001b[38;5;241m=\u001b[39m conexion\u001b[38;5;241m.\u001b[39mcursor()\n\u001b[0;32m      2\u001b[0m cursor\u001b[38;5;241m.\u001b[39mexecute(\u001b[38;5;124m\"\u001b[39m\u001b[38;5;124mSELECT * FROM empleados\u001b[39m\u001b[38;5;124m\"\u001b[39m)\n",
      "\u001b[1;31mNameError\u001b[0m: name 'conexion' is not defined"
     ]
    }
   ],
   "source": [
    "cursor = conexion.cursor()\n",
    "cursor.execute(\"SELECT * FROM empleados\")"
   ]
  },
  {
   "cell_type": "code",
   "execution_count": 33,
   "id": "7ad32de6",
   "metadata": {},
   "outputs": [],
   "source": [
    "profesor = \"\"\"SELECT nombre FROM profesores\n",
    "\tWHERE dni = '12345678A';\"\"\"\n"
   ]
  },
  {
   "cell_type": "code",
   "execution_count": 34,
   "id": "397b76f1",
   "metadata": {},
   "outputs": [
    {
     "ename": "AttributeError",
     "evalue": "'str' object has no attribute 'execute'",
     "output_type": "error",
     "traceback": [
      "\u001b[1;31m---------------------------------------------------------------------------\u001b[0m",
      "\u001b[1;31mAttributeError\u001b[0m                            Traceback (most recent call last)",
      "Cell \u001b[1;32mIn[34], line 1\u001b[0m\n\u001b[1;32m----> 1\u001b[0m profesor\u001b[38;5;241m.\u001b[39mexecute()\n",
      "\u001b[1;31mAttributeError\u001b[0m: 'str' object has no attribute 'execute'"
     ]
    }
   ],
   "source": [
    "profesor.execute()"
   ]
  }
 ],
 "metadata": {
  "kernelspec": {
   "display_name": "base",
   "language": "python",
   "name": "python3"
  },
  "language_info": {
   "codemirror_mode": {
    "name": "ipython",
    "version": 3
   },
   "file_extension": ".py",
   "mimetype": "text/x-python",
   "name": "python",
   "nbconvert_exporter": "python",
   "pygments_lexer": "ipython3",
   "version": "3.12.7"
  }
 },
 "nbformat": 4,
 "nbformat_minor": 5
}
