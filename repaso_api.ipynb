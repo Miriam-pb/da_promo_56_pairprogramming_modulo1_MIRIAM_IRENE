{
 "cells": [
  {
   "cell_type": "code",
   "execution_count": 6,
   "id": "15c6eeab",
   "metadata": {},
   "outputs": [],
   "source": [
    "import requests\n",
    "import json"
   ]
  },
  {
   "cell_type": "code",
   "execution_count": 7,
   "id": "2131682d",
   "metadata": {},
   "outputs": [
    {
     "ename": "SyntaxError",
     "evalue": "invalid syntax (1643611985.py, line 1)",
     "output_type": "error",
     "traceback": [
      "\u001b[1;36m  Cell \u001b[1;32mIn[7], line 1\u001b[1;36m\u001b[0m\n\u001b[1;33m    def llamar_api(\"https://api.nytimes.com/svc/books/v3/lists/overview.json?api-key=ocIyzP0iFGeGOSP070urNHuhBEkvvc0R\")\u001b[0m\n\u001b[1;37m                   ^\u001b[0m\n\u001b[1;31mSyntaxError\u001b[0m\u001b[1;31m:\u001b[0m invalid syntax\n"
     ]
    }
   ],
   "source": [
    "def llamar_api(\"https://api.nytimes.com/svc/books/v3/lists/overview.json?api-key=ocIyzP0iFGeGOSP070urNHuhBEkvvc0R\")\n",
    "   \n",
    "    llamada = requests.get(\"https://api.nytimes.com/svc/books/v3/lists/overview.json?api-key=ocIyzP0iFGeGOSP070urNHuhBEkvvc0R\")  # Realiza una solicitud GET a la URL proporcionada y almacena la respuesta en 'llamada'.\n",
    "\n",
    "    print(f\"La llamada a la API nos ha dado una respuesta de tipo: {llamada.status_code}\")  # Imprime el código de estado de la respuesta.\n",
    "\n",
    "    if llamada.status_code != 200:  # Comprueba si la respuesta no fue exitosa (código de estado distinto de 200).\n",
    "        print(f\"El motivo por el que la llamada falló es {llamada.reason}\")  # Imprime la razón de la falla.\n",
    "    else:\n",
    "        return llamada.json()"
   ]
  }
 ],
 "metadata": {
  "kernelspec": {
   "display_name": "base",
   "language": "python",
   "name": "python3"
  },
  "language_info": {
   "codemirror_mode": {
    "name": "ipython",
    "version": 3
   },
   "file_extension": ".py",
   "mimetype": "text/x-python",
   "name": "python",
   "nbconvert_exporter": "python",
   "pygments_lexer": "ipython3",
   "version": "3.12.7"
  }
 },
 "nbformat": 4,
 "nbformat_minor": 5
}
