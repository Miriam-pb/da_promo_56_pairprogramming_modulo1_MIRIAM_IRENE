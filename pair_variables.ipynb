{
 "cells": [
  {
   "cell_type": "markdown",
   "id": "afd23b16",
   "metadata": {},
   "source": [
    "\n",
    "Crea tres variables numéricas de tipo integer (entero), llamadas de la siguiente forma:"
   ]
  },
  {
   "cell_type": "code",
   "execution_count": 2,
   "id": "e031ed9f",
   "metadata": {},
   "outputs": [],
   "source": [
    "numero1 = 4\n",
    "\n",
    "numero2 = 5\n",
    "\n",
    "numero3 = 6"
   ]
  },
  {
   "cell_type": "code",
   "execution_count": 5,
   "id": "4fa923b5",
   "metadata": {},
   "outputs": [
    {
     "name": "stdout",
     "output_type": "stream",
     "text": [
      "<class 'int'>\n",
      "<class 'int'>\n",
      "<class 'int'>\n"
     ]
    }
   ],
   "source": [
    "print(type(numero1))\n",
    "print(type(numero2))\n",
    "print(type(numero3))"
   ]
  },
  {
   "cell_type": "code",
   "execution_count": 3,
   "id": "eb90a3fb",
   "metadata": {},
   "outputs": [
    {
     "name": "stdout",
     "output_type": "stream",
     "text": [
      "False\n"
     ]
    }
   ],
   "source": [
    "#¿En vuestro caso, es el numero1 mayor que el numero2?\n",
    "print(numero1>numero2)"
   ]
  },
  {
   "cell_type": "code",
   "execution_count": 4,
   "id": "28f3a555",
   "metadata": {},
   "outputs": [
    {
     "name": "stdout",
     "output_type": "stream",
     "text": [
      "True\n",
      "False\n"
     ]
    }
   ],
   "source": [
    "#¿Es el numero1 menor que el numero2 pero mayor que el numero3?\n",
    "print(numero1<numero2)\n",
    "print(numero1>numero3)"
   ]
  },
  {
   "cell_type": "code",
   "execution_count": 6,
   "id": "19203a95",
   "metadata": {},
   "outputs": [
    {
     "name": "stdout",
     "output_type": "stream",
     "text": [
      "False\n"
     ]
    }
   ],
   "source": [
    "#¿Es el numero3 igual que el numero2\n",
    "print(numero3==numero2)"
   ]
  },
  {
   "cell_type": "code",
   "execution_count": 7,
   "id": "f229172b",
   "metadata": {},
   "outputs": [
    {
     "name": "stdout",
     "output_type": "stream",
     "text": [
      "True\n"
     ]
    }
   ],
   "source": [
    "#¿Es el numero2 distinto que el numero1?\n",
    "print(numero2!=numero1)"
   ]
  },
  {
   "cell_type": "markdown",
   "id": "e64f84c8",
   "metadata": {},
   "source": [
    "\n",
    "Crea dos variables numéricas de tipo float (decimal) con dos decimales, llámalas de la siguiente forma:"
   ]
  },
  {
   "cell_type": "code",
   "execution_count": 8,
   "id": "63596abe",
   "metadata": {},
   "outputs": [],
   "source": [
    "\n",
    "altura1 = 1.57\n",
    "\n",
    "altura2 = 1.70"
   ]
  },
  {
   "cell_type": "code",
   "execution_count": 10,
   "id": "c660a39b",
   "metadata": {},
   "outputs": [
    {
     "name": "stdout",
     "output_type": "stream",
     "text": [
      "<class 'float'>\n",
      "<class 'float'>\n"
     ]
    }
   ],
   "source": [
    "print(type(altura1))\n",
    "print(type(altura2))"
   ]
  },
  {
   "cell_type": "code",
   "execution_count": 9,
   "id": "d914b6be",
   "metadata": {},
   "outputs": [
    {
     "name": "stdout",
     "output_type": "stream",
     "text": [
      "3.27\n"
     ]
    }
   ],
   "source": [
    "#Cuál es la suma de las dos alturas\n",
    "print(altura1 + altura2)"
   ]
  },
  {
   "cell_type": "code",
   "execution_count": 11,
   "id": "99c929ac",
   "metadata": {},
   "outputs": [
    {
     "name": "stdout",
     "output_type": "stream",
     "text": [
      "0.9235294117647059\n"
     ]
    }
   ],
   "source": [
    "#Cuál es la diferencia entre las alturas\n",
    "print(altura1 / altura2)"
   ]
  },
  {
   "cell_type": "code",
   "execution_count": 13,
   "id": "799305f0",
   "metadata": {},
   "outputs": [
    {
     "name": "stdout",
     "output_type": "stream",
     "text": [
      "0.0\n",
      "1.57\n"
     ]
    }
   ],
   "source": [
    "#Cuál es el resto de la división de las dos alturas\n",
    "print(altura1 // altura2)\n",
    "print(altura1 % altura2)"
   ]
  },
  {
   "cell_type": "code",
   "execution_count": 17,
   "id": "a4e4a77d",
   "metadata": {},
   "outputs": [
    {
     "name": "stdout",
     "output_type": "stream",
     "text": [
      "0.9\n"
     ]
    }
   ],
   "source": [
    "#Cuál es resultado de la división de las dos alturas, redondead el resultado a un decimal.\n",
    "redondeado = round(altura1 / altura2,1)\n",
    "print(redondeado)"
   ]
  },
  {
   "cell_type": "markdown",
   "id": "6ef2bd3b",
   "metadata": {},
   "source": [
    "\n",
    "Escribe un programa usando la función input() que le pregunte al usuario su nombre y apellidos. Una vez que tengamos el nombre del usuario:"
   ]
  },
  {
   "cell_type": "code",
   "execution_count": 28,
   "id": "80c0143a",
   "metadata": {},
   "outputs": [
    {
     "name": "stdout",
     "output_type": "stream",
     "text": [
      "Escriba aquí su nombre y apellidos:\n",
      "Irene de Hoz\n",
      "<class 'str'>\n"
     ]
    }
   ],
   "source": [
    "nombre_completo = input()\n",
    "print(\"Escriba aquí su nombre y apellidos:\")\n",
    "print(nombre_completo)\n",
    "print(type(nombre_completo))\n"
   ]
  },
  {
   "cell_type": "code",
   "execution_count": null,
   "id": "fc40988d",
   "metadata": {},
   "outputs": [
    {
     "name": "stdout",
     "output_type": "stream",
     "text": [
      "IRENE DE HOZ\n"
     ]
    }
   ],
   "source": [
    "#Imprime su nombre y apellidos todo en mayúsculas\n",
    "print(nombre_completo.upper())"
   ]
  },
  {
   "cell_type": "code",
   "execution_count": null,
   "id": "1be2df85",
   "metadata": {},
   "outputs": [
    {
     "name": "stdout",
     "output_type": "stream",
     "text": [
      "irene de hoz\n"
     ]
    }
   ],
   "source": [
    "#Imprime su nombre y apellidos todo en minúsculas\n",
    "print(nombre_completo.lower())"
   ]
  },
  {
   "cell_type": "code",
   "execution_count": null,
   "id": "0dbe32d9",
   "metadata": {},
   "outputs": [
    {
     "name": "stdout",
     "output_type": "stream",
     "text": [
      "17.571\n"
     ]
    }
   ],
   "source": [
    "#repaso de ejercicios\n",
    "\n",
    "#redondear decimales\n",
    "alt1 = 123\n",
    "alt2 = 7\n",
    "print(round(alt1/alt2, 3))"
   ]
  },
  {
   "cell_type": "code",
   "execution_count": 10,
   "id": "7244ae9b",
   "metadata": {},
   "outputs": [
    {
     "name": "stdout",
     "output_type": "stream",
     "text": [
      "MIRIAM PEREZ\n"
     ]
    }
   ],
   "source": [
    "nombre_completo1 = input('escribe tu nombre completo')\n",
    "print(nombre_completo1.upper())"
   ]
  },
  {
   "cell_type": "code",
   "execution_count": 11,
   "id": "a3b2e92c",
   "metadata": {},
   "outputs": [
    {
     "name": "stdout",
     "output_type": "stream",
     "text": [
      "miriam perez\n"
     ]
    }
   ],
   "source": [
    "print(nombre_completo1.lower())"
   ]
  },
  {
   "cell_type": "code",
   "execution_count": 12,
   "id": "e890a397",
   "metadata": {},
   "outputs": [
    {
     "name": "stdout",
     "output_type": "stream",
     "text": [
      "Miriam Perez\n"
     ]
    }
   ],
   "source": [
    "print(nombre_completo1.title())"
   ]
  },
  {
   "cell_type": "code",
   "execution_count": 13,
   "id": "8f2bbc3e",
   "metadata": {},
   "outputs": [
    {
     "name": "stdout",
     "output_type": "stream",
     "text": [
      "Miriam perez\n"
     ]
    }
   ],
   "source": [
    "print(nombre_completo1.capitalize())"
   ]
  },
  {
   "cell_type": "code",
   "execution_count": 18,
   "id": "0c5b915b",
   "metadata": {},
   "outputs": [
    {
     "name": "stdout",
     "output_type": "stream",
     "text": [
      "hola mundo\n",
      "u\n",
      "hola mUndo\n"
     ]
    }
   ],
   "source": [
    "\n",
    "frase = input('escirbe una frase: ')\n",
    "print(frase)\n",
    "vocal = input('escoge una vocal: ' )\n",
    "print(vocal)\n",
    "print(frase.replace(vocal,vocal.upper()))"
   ]
  },
  {
   "cell_type": "code",
   "execution_count": 19,
   "id": "06db89cb",
   "metadata": {},
   "outputs": [
    {
     "name": "stdout",
     "output_type": "stream",
     "text": [
      "<class 'str'>\n"
     ]
    }
   ],
   "source": [
    "lista = input('escribe una lista de la compra: ')\n",
    "list(lista)\n",
    "print(type(lista))"
   ]
  },
  {
   "cell_type": "code",
   "execution_count": 21,
   "id": "3c1bc8ba",
   "metadata": {},
   "outputs": [
    {
     "name": "stdout",
     "output_type": "stream",
     "text": [
      "<class 'list'>\n",
      "huevos, pan, leche\n",
      "['h', 'u', 'e', 'v', 'o', 's', ',', ' ', 'p', 'a', 'n', ',', ' ', 'l', 'e', 'c', 'h', 'e']\n",
      "['huevos,', 'pan,', 'leche']\n",
      "<class 'str'>\n"
     ]
    }
   ],
   "source": [
    "lista = input (\"escribe tu lista: \")\n",
    "lista_python = list(lista)\n",
    "print(type(lista_python))\n",
    "print(lista)\n",
    "print(lista_python)\n",
    "print(lista.split())\n",
    "print(type(lista))"
   ]
  }
 ],
 "metadata": {
  "kernelspec": {
   "display_name": "base",
   "language": "python",
   "name": "python3"
  },
  "language_info": {
   "codemirror_mode": {
    "name": "ipython",
    "version": 3
   },
   "file_extension": ".py",
   "mimetype": "text/x-python",
   "name": "python",
   "nbconvert_exporter": "python",
   "pygments_lexer": "ipython3",
   "version": "3.12.7"
  }
 },
 "nbformat": 4,
 "nbformat_minor": 5
}
